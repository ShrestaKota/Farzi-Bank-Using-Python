{
 "cells": [
  {
   "cell_type": "markdown",
   "metadata": {},
   "source": [
    "# Assignment 2\n",
    "\n",
    "Use the \"Run\" button to execute the code."
   ]
  },
  {
   "cell_type": "code",
   "execution_count": 240,
   "metadata": {},
   "outputs": [],
   "source": [
    "pip install memory-profiler\n",
    "import pandas as pd\n",
    "import numpy as np\n",
    "import logging\n",
    "import time\n",
    "import memory_profiler"
   ]
  },
  {
   "cell_type": "code",
   "execution_count": 243,
   "metadata": {},
   "outputs": [],
   "source": [
    "\n",
    "# Configure logging\n",
    "logging.basicConfig(filename='simulation.log', level=logging.INFO, format='%(asctime)s [%(levelname)s] [%(name)s]: %(message)s')\n",
    "logger = logging.getLogger(__name__)\n",
    "start_time = time.time()"
   ]
  },
  {
   "cell_type": "code",
   "execution_count": 36,
   "metadata": {},
   "outputs": [],
   "source": [
    "#setting the random seed for the reproducibility\n",
    "np.random.seed(42)"
   ]
  },
  {
   "cell_type": "code",
   "execution_count": 37,
   "metadata": {},
   "outputs": [],
   "source": [
    "#createing 20000 unique 7 digit customer ids.\n",
    "customer_ID = np.random.choice(range(1000000, 10000000), size=20000, replace=False)"
   ]
  },
  {
   "cell_type": "code",
   "execution_count": 65,
   "metadata": {},
   "outputs": [],
   "source": [
    "customer_ID = customer_ID.tolist()"
   ]
  },
  {
   "cell_type": "code",
   "execution_count": 71,
   "metadata": {},
   "outputs": [],
   "source": [
    "#genrating age between 20 to 80 years\n",
    "ages = np.random.uniform(low=20, high=80, size=20000)"
   ]
  },
  {
   "cell_type": "code",
   "execution_count": 72,
   "metadata": {},
   "outputs": [
    {
     "data": {
      "text/plain": [
       "20000"
      ]
     },
     "execution_count": 72,
     "metadata": {},
     "output_type": "execute_result"
    }
   ],
   "source": [
    "ages = ages.round().astype(int)\n",
    "#converting to a list and making it whole number\n",
    "ages = ages.tolist()\n",
    "len(ages)"
   ]
  },
  {
   "cell_type": "code",
   "execution_count": 73,
   "metadata": {},
   "outputs": [
    {
     "data": {
      "text/plain": [
       "20000"
      ]
     },
     "execution_count": 73,
     "metadata": {},
     "output_type": "execute_result"
    }
   ],
   "source": [
    "#gernarating gender male,female having probabilit of 50 -50 for both.\n",
    "genders = np.random.choice(['Male', 'Female'], size=20000, p=[0.5, 0.5])\n",
    "len(genders)"
   ]
  },
  {
   "cell_type": "code",
   "execution_count": 52,
   "metadata": {},
   "outputs": [
    {
     "data": {
      "text/plain": [
       "20000"
      ]
     },
     "execution_count": 52,
     "metadata": {},
     "output_type": "execute_result"
    }
   ],
   "source": [
    "#list to store martial status.\n",
    "marital_status=[]\n",
    "#deciding single or married oon basis of age and in the probability given assignment 1.\n",
    "for age in ages: \n",
    "   if(age<=30 and age>=20):\n",
    "        status = np.random.choice(['single','Married'],p=[0.75,0.25])\n",
    "        marital_status.append(status)\n",
    "   if(age>30 and age<=60):\n",
    "         status = np.random.choice(['single','Married'],p=[0.25,0.75])\n",
    "         marital_status.append(status)\n",
    "   if(age>60 and age<=80):\n",
    "        status = np.random.choice(['single','Married'],p=[0.5,0.5])\n",
    "        marital_status.append(status)\n",
    "\n",
    "def convert_marital_status(status):\n",
    "    return 1 if status == 'Married' else 0\n",
    "\n",
    "#converting married to 1 and single to 0.\n",
    "martial_status= [convert_marital_status(status) for status in marital_status]\n",
    "\n",
    "len(martial_status)"
   ]
  },
  {
   "cell_type": "code",
   "execution_count": 75,
   "metadata": {},
   "outputs": [
    {
     "data": {
      "text/plain": [
       "20000"
      ]
     },
     "execution_count": 75,
     "metadata": {},
     "output_type": "execute_result"
    }
   ],
   "source": [
    "no_of_childrens=[]\n",
    "for age in ages:\n",
    "    if 20 <= age <= 40:\n",
    "        s = np.random.choice([0, 1, 2, 3, 4], p=[0.4, 0.3, 0.2, 0.1, 0])\n",
    "        no_of_childrens.append(s)\n",
    "    elif 40 < age <= 80:  # Use 'elif' and fix the condition\n",
    "        s = np.random.choice([0, 1, 2, 3, 4], p=[0.1, 0.3, 0.3, 0.2, 0.1])\n",
    "        no_of_childrens.append(s)\n",
    "len(no_of_childrens)"
   ]
  },
  {
   "cell_type": "code",
   "execution_count": 76,
   "metadata": {},
   "outputs": [
    {
     "data": {
      "text/plain": [
       "20000"
      ]
     },
     "execution_count": 76,
     "metadata": {},
     "output_type": "execute_result"
    }
   ],
   "source": [
    "Education_Level = []\n",
    "#making lis \"education_Level\" and adding data in it according to assignment 1.\n",
    "for age in ages: \n",
    "   if(age<=25 and age>=20):\n",
    "        status = np.random.choice(['No_education','Highschool','Bachelor degree','master degree','PHD'],p=[0.1,0.5,0.3,0.1,0])\n",
    "        Education_Level.append(status)\n",
    "   elif(age>25 and age<=35):\n",
    "        status = np.random.choice(['No_education','Highschool','Bachelor degree','master degree','PHD'],p=[0.1,0.5,0.3,0.1,0])\n",
    "        Education_Level.append(status)\n",
    "   elif(age>35 and age<=80):\n",
    "        status = np.random.choice(['No_education','Highschool','Bachelor degree','master degree','PHD'],p=[0.1,0.5,0.3,0.1,0])\n",
    "        Education_Level.append(status)\n",
    "#converting the data according\n",
    "'''No_education': 0,\n",
    "        'Highschool': 1,\n",
    "        \"Bachelor degree\": 2,\n",
    "        \"master degree\": 3,\n",
    "        'PHD': 4'''\n",
    "def convert_education_level(level):\n",
    "    level_mapping = {\n",
    "        'No_education': 0,\n",
    "        'Highschool': 1,\n",
    "        \"Bachelor degree\": 2,\n",
    "        \"master degree\": 3,\n",
    "        'PHD': 4\n",
    "    }\n",
    "    return level_mapping[level]\n",
    "\n",
    "\n",
    "Education_Level = [convert_education_level(level) for level in Education_Level]\n",
    "len(Education_Level)"
   ]
  },
  {
   "cell_type": "code",
   "execution_count": 144,
   "metadata": {},
   "outputs": [],
   "source": [
    "data = {\n",
    "    'customer_ID': customer_ID,\n",
    "    'ages': ages,\n",
    "    'genders': genders,\n",
    "    'marital_status': martial_status,\n",
    "    'no_of_childrens': no_of_childrens,\n",
    "    'education_Level': Education_Level\n",
    "}\n",
    "\n",
    "df = pd.DataFrame(data)"
   ]
  },
  {
   "cell_type": "code",
   "execution_count": 145,
   "metadata": {},
   "outputs": [
    {
     "data": {
      "text/html": [
       "<div>\n",
       "<style scoped>\n",
       "    .dataframe tbody tr th:only-of-type {\n",
       "        vertical-align: middle;\n",
       "    }\n",
       "\n",
       "    .dataframe tbody tr th {\n",
       "        vertical-align: top;\n",
       "    }\n",
       "\n",
       "    .dataframe thead th {\n",
       "        text-align: right;\n",
       "    }\n",
       "</style>\n",
       "<table border=\"1\" class=\"dataframe\">\n",
       "  <thead>\n",
       "    <tr style=\"text-align: right;\">\n",
       "      <th></th>\n",
       "      <th>customer_ID</th>\n",
       "      <th>ages</th>\n",
       "      <th>genders</th>\n",
       "      <th>marital_status</th>\n",
       "      <th>no_of_childrens</th>\n",
       "      <th>education_Level</th>\n",
       "    </tr>\n",
       "  </thead>\n",
       "  <tbody>\n",
       "    <tr>\n",
       "      <th>0</th>\n",
       "      <td>2661066</td>\n",
       "      <td>67</td>\n",
       "      <td>Female</td>\n",
       "      <td>1</td>\n",
       "      <td>0</td>\n",
       "      <td>2</td>\n",
       "    </tr>\n",
       "    <tr>\n",
       "      <th>1</th>\n",
       "      <td>3848565</td>\n",
       "      <td>33</td>\n",
       "      <td>Female</td>\n",
       "      <td>1</td>\n",
       "      <td>0</td>\n",
       "      <td>0</td>\n",
       "    </tr>\n",
       "    <tr>\n",
       "      <th>2</th>\n",
       "      <td>5801450</td>\n",
       "      <td>68</td>\n",
       "      <td>Female</td>\n",
       "      <td>1</td>\n",
       "      <td>4</td>\n",
       "      <td>0</td>\n",
       "    </tr>\n",
       "    <tr>\n",
       "      <th>3</th>\n",
       "      <td>1041736</td>\n",
       "      <td>56</td>\n",
       "      <td>Male</td>\n",
       "      <td>1</td>\n",
       "      <td>1</td>\n",
       "      <td>1</td>\n",
       "    </tr>\n",
       "    <tr>\n",
       "      <th>4</th>\n",
       "      <td>9545654</td>\n",
       "      <td>33</td>\n",
       "      <td>Male</td>\n",
       "      <td>1</td>\n",
       "      <td>0</td>\n",
       "      <td>2</td>\n",
       "    </tr>\n",
       "    <tr>\n",
       "      <th>...</th>\n",
       "      <td>...</td>\n",
       "      <td>...</td>\n",
       "      <td>...</td>\n",
       "      <td>...</td>\n",
       "      <td>...</td>\n",
       "      <td>...</td>\n",
       "    </tr>\n",
       "    <tr>\n",
       "      <th>19995</th>\n",
       "      <td>2518384</td>\n",
       "      <td>49</td>\n",
       "      <td>Male</td>\n",
       "      <td>1</td>\n",
       "      <td>4</td>\n",
       "      <td>1</td>\n",
       "    </tr>\n",
       "    <tr>\n",
       "      <th>19996</th>\n",
       "      <td>8451333</td>\n",
       "      <td>69</td>\n",
       "      <td>Female</td>\n",
       "      <td>0</td>\n",
       "      <td>3</td>\n",
       "      <td>0</td>\n",
       "    </tr>\n",
       "    <tr>\n",
       "      <th>19997</th>\n",
       "      <td>3451736</td>\n",
       "      <td>41</td>\n",
       "      <td>Female</td>\n",
       "      <td>0</td>\n",
       "      <td>2</td>\n",
       "      <td>1</td>\n",
       "    </tr>\n",
       "    <tr>\n",
       "      <th>19998</th>\n",
       "      <td>9893821</td>\n",
       "      <td>56</td>\n",
       "      <td>Male</td>\n",
       "      <td>0</td>\n",
       "      <td>4</td>\n",
       "      <td>3</td>\n",
       "    </tr>\n",
       "    <tr>\n",
       "      <th>19999</th>\n",
       "      <td>5502663</td>\n",
       "      <td>23</td>\n",
       "      <td>Male</td>\n",
       "      <td>1</td>\n",
       "      <td>1</td>\n",
       "      <td>3</td>\n",
       "    </tr>\n",
       "  </tbody>\n",
       "</table>\n",
       "<p>20000 rows × 6 columns</p>\n",
       "</div>"
      ],
      "text/plain": [
       "       customer_ID  ages genders  marital_status  no_of_childrens  \\\n",
       "0          2661066    67  Female               1                0   \n",
       "1          3848565    33  Female               1                0   \n",
       "2          5801450    68  Female               1                4   \n",
       "3          1041736    56    Male               1                1   \n",
       "4          9545654    33    Male               1                0   \n",
       "...            ...   ...     ...             ...              ...   \n",
       "19995      2518384    49    Male               1                4   \n",
       "19996      8451333    69  Female               0                3   \n",
       "19997      3451736    41  Female               0                2   \n",
       "19998      9893821    56    Male               0                4   \n",
       "19999      5502663    23    Male               1                1   \n",
       "\n",
       "       education_Level  \n",
       "0                    2  \n",
       "1                    0  \n",
       "2                    0  \n",
       "3                    1  \n",
       "4                    2  \n",
       "...                ...  \n",
       "19995                1  \n",
       "19996                0  \n",
       "19997                1  \n",
       "19998                3  \n",
       "19999                3  \n",
       "\n",
       "[20000 rows x 6 columns]"
      ]
     },
     "execution_count": 145,
     "metadata": {},
     "output_type": "execute_result"
    }
   ],
   "source": [
    "df"
   ]
  },
  {
   "cell_type": "code",
   "execution_count": 146,
   "metadata": {},
   "outputs": [],
   "source": [
    "#adding new data frame annual_income to it. usign the formula given in the assignment 1.\n",
    "df['annual_income'] = 40 * 52 * (15 + df['education_Level'] * 10 + (df['ages'] / 10) * 2)"
   ]
  },
  {
   "cell_type": "code",
   "execution_count": 147,
   "metadata": {},
   "outputs": [],
   "source": [
    "#adding number of accounts in dataframe with the fromula given in assignment 1\n",
    "df['number_of_accounts'] = df['marital_status'] + df['no_of_childrens'] + 1"
   ]
  },
  {
   "cell_type": "code",
   "execution_count": 148,
   "metadata": {},
   "outputs": [],
   "source": [
    "# adding new column total_credit_line in dataframe with the formula give in assignment 1\n",
    "df['total_credit_line'] = df['number_of_accounts'] * (df['annual_income'] / 10)"
   ]
  },
  {
   "cell_type": "code",
   "execution_count": 149,
   "metadata": {},
   "outputs": [
    {
     "data": {
      "text/html": [
       "<div>\n",
       "<style scoped>\n",
       "    .dataframe tbody tr th:only-of-type {\n",
       "        vertical-align: middle;\n",
       "    }\n",
       "\n",
       "    .dataframe tbody tr th {\n",
       "        vertical-align: top;\n",
       "    }\n",
       "\n",
       "    .dataframe thead th {\n",
       "        text-align: right;\n",
       "    }\n",
       "</style>\n",
       "<table border=\"1\" class=\"dataframe\">\n",
       "  <thead>\n",
       "    <tr style=\"text-align: right;\">\n",
       "      <th></th>\n",
       "      <th>customer_ID</th>\n",
       "      <th>ages</th>\n",
       "      <th>genders</th>\n",
       "      <th>marital_status</th>\n",
       "      <th>no_of_childrens</th>\n",
       "      <th>education_Level</th>\n",
       "      <th>annual_income</th>\n",
       "      <th>number_of_accounts</th>\n",
       "      <th>total_credit_line</th>\n",
       "    </tr>\n",
       "  </thead>\n",
       "  <tbody>\n",
       "    <tr>\n",
       "      <th>0</th>\n",
       "      <td>2661066</td>\n",
       "      <td>67</td>\n",
       "      <td>Female</td>\n",
       "      <td>1</td>\n",
       "      <td>0</td>\n",
       "      <td>2</td>\n",
       "      <td>100672.0</td>\n",
       "      <td>2</td>\n",
       "      <td>20134.4</td>\n",
       "    </tr>\n",
       "    <tr>\n",
       "      <th>1</th>\n",
       "      <td>3848565</td>\n",
       "      <td>33</td>\n",
       "      <td>Female</td>\n",
       "      <td>1</td>\n",
       "      <td>0</td>\n",
       "      <td>0</td>\n",
       "      <td>44928.0</td>\n",
       "      <td>2</td>\n",
       "      <td>8985.6</td>\n",
       "    </tr>\n",
       "    <tr>\n",
       "      <th>2</th>\n",
       "      <td>5801450</td>\n",
       "      <td>68</td>\n",
       "      <td>Female</td>\n",
       "      <td>1</td>\n",
       "      <td>4</td>\n",
       "      <td>0</td>\n",
       "      <td>59488.0</td>\n",
       "      <td>6</td>\n",
       "      <td>35692.8</td>\n",
       "    </tr>\n",
       "    <tr>\n",
       "      <th>3</th>\n",
       "      <td>1041736</td>\n",
       "      <td>56</td>\n",
       "      <td>Male</td>\n",
       "      <td>1</td>\n",
       "      <td>1</td>\n",
       "      <td>1</td>\n",
       "      <td>75296.0</td>\n",
       "      <td>3</td>\n",
       "      <td>22588.8</td>\n",
       "    </tr>\n",
       "    <tr>\n",
       "      <th>4</th>\n",
       "      <td>9545654</td>\n",
       "      <td>33</td>\n",
       "      <td>Male</td>\n",
       "      <td>1</td>\n",
       "      <td>0</td>\n",
       "      <td>2</td>\n",
       "      <td>86528.0</td>\n",
       "      <td>2</td>\n",
       "      <td>17305.6</td>\n",
       "    </tr>\n",
       "  </tbody>\n",
       "</table>\n",
       "</div>"
      ],
      "text/plain": [
       "   customer_ID  ages genders  marital_status  no_of_childrens  \\\n",
       "0      2661066    67  Female               1                0   \n",
       "1      3848565    33  Female               1                0   \n",
       "2      5801450    68  Female               1                4   \n",
       "3      1041736    56    Male               1                1   \n",
       "4      9545654    33    Male               1                0   \n",
       "\n",
       "   education_Level  annual_income  number_of_accounts  total_credit_line  \n",
       "0                2       100672.0                   2            20134.4  \n",
       "1                0        44928.0                   2             8985.6  \n",
       "2                0        59488.0                   6            35692.8  \n",
       "3                1        75296.0                   3            22588.8  \n",
       "4                2        86528.0                   2            17305.6  "
      ]
     },
     "execution_count": 149,
     "metadata": {},
     "output_type": "execute_result"
    }
   ],
   "source": [
    "#customer table genrating.\n",
    "customers=df\n",
    "customers.to_csv(\"customers.csv\",index=False)\n",
    "customers.head()"
   ]
  },
  {
   "cell_type": "markdown",
   "metadata": {},
   "source": [
    "The process involved creating unique customer IDs, generating random ages, assigning genders with equal probability, determining marital status based on age-specific distributions, randomly selecting the number of children, and assigning education levels with specified probabilities. The resulting data is organized into a DataFrame, and additional columns for annual income, number of accounts, and total credit line were calculated using the given formulas. The DataFrame, named 'customers,' was then exported to a CSV file for further analysis. "
   ]
  },
  {
   "cell_type": "code",
   "execution_count": null,
   "metadata": {},
   "outputs": [],
   "source": []
  },
  {
   "cell_type": "code",
   "execution_count": 150,
   "metadata": {},
   "outputs": [
    {
     "data": {
      "text/plain": [
       "DatetimeIndex(['2019-01-12', '2017-01-24', '2018-08-26', '2018-06-26',\n",
       "               '2021-09-21', '2017-03-21', '2017-11-02', '2020-04-04',\n",
       "               '2018-12-30', '2019-05-26',\n",
       "               ...\n",
       "               '2019-07-06', '2021-12-16', '2018-02-16', '2018-08-15',\n",
       "               '2018-10-04', '2017-09-21', '2021-02-16', '2021-06-09',\n",
       "               '2018-08-13', '2021-05-15'],\n",
       "              dtype='datetime64[ns]', length=20000, freq=None)"
      ]
     },
     "execution_count": 150,
     "metadata": {},
     "output_type": "execute_result"
    }
   ],
   "source": [
    "date_opened = pd.to_datetime(np.random.choice(pd.date_range(start='2017-01-01', end='2022-01-01'), size=20000, replace=True))\n",
    "date_opened.tolist()\n",
    "date_opened"
   ]
  },
  {
   "cell_type": "code",
   "execution_count": 151,
   "metadata": {},
   "outputs": [],
   "source": [
    "accounts = pd.DataFrame({\n",
    "    'customer_id': customer_ID,\n",
    "    'date_opened': date_opened\n",
    "})"
   ]
  },
  {
   "cell_type": "code",
   "execution_count": 161,
   "metadata": {},
   "outputs": [
    {
     "ename": "KeyError",
     "evalue": "'Account Number'",
     "output_type": "error",
     "traceback": [
      "\u001b[0;31m---------------------------------------------------------------------------\u001b[0m",
      "\u001b[0;31mKeyError\u001b[0m                                  Traceback (most recent call last)",
      "\u001b[0;32m/opt/conda/lib/python3.9/site-packages/pandas/core/indexes/base.py\u001b[0m in \u001b[0;36mget_loc\u001b[0;34m(self, key, method, tolerance)\u001b[0m\n\u001b[1;32m   3360\u001b[0m             \u001b[0;32mtry\u001b[0m\u001b[0;34m:\u001b[0m\u001b[0;34m\u001b[0m\u001b[0;34m\u001b[0m\u001b[0m\n\u001b[0;32m-> 3361\u001b[0;31m                 \u001b[0;32mreturn\u001b[0m \u001b[0mself\u001b[0m\u001b[0;34m.\u001b[0m\u001b[0m_engine\u001b[0m\u001b[0;34m.\u001b[0m\u001b[0mget_loc\u001b[0m\u001b[0;34m(\u001b[0m\u001b[0mcasted_key\u001b[0m\u001b[0;34m)\u001b[0m\u001b[0;34m\u001b[0m\u001b[0;34m\u001b[0m\u001b[0m\n\u001b[0m\u001b[1;32m   3362\u001b[0m             \u001b[0;32mexcept\u001b[0m \u001b[0mKeyError\u001b[0m \u001b[0;32mas\u001b[0m \u001b[0merr\u001b[0m\u001b[0;34m:\u001b[0m\u001b[0;34m\u001b[0m\u001b[0;34m\u001b[0m\u001b[0m\n",
      "\u001b[0;32m/opt/conda/lib/python3.9/site-packages/pandas/_libs/index.pyx\u001b[0m in \u001b[0;36mpandas._libs.index.IndexEngine.get_loc\u001b[0;34m()\u001b[0m\n",
      "\u001b[0;32m/opt/conda/lib/python3.9/site-packages/pandas/_libs/index.pyx\u001b[0m in \u001b[0;36mpandas._libs.index.IndexEngine.get_loc\u001b[0;34m()\u001b[0m\n",
      "\u001b[0;32mpandas/_libs/hashtable_class_helper.pxi\u001b[0m in \u001b[0;36mpandas._libs.hashtable.PyObjectHashTable.get_item\u001b[0;34m()\u001b[0m\n",
      "\u001b[0;32mpandas/_libs/hashtable_class_helper.pxi\u001b[0m in \u001b[0;36mpandas._libs.hashtable.PyObjectHashTable.get_item\u001b[0;34m()\u001b[0m\n",
      "\u001b[0;31mKeyError\u001b[0m: 'Account Number'",
      "\nThe above exception was the direct cause of the following exception:\n",
      "\u001b[0;31mKeyError\u001b[0m                                  Traceback (most recent call last)",
      "\u001b[0;32m/tmp/ipykernel_45/1226837030.py\u001b[0m in \u001b[0;36m<module>\u001b[0;34m\u001b[0m\n\u001b[1;32m      1\u001b[0m \u001b[0maccounts\u001b[0m\u001b[0;34m.\u001b[0m\u001b[0msort_values\u001b[0m\u001b[0;34m(\u001b[0m\u001b[0mby\u001b[0m\u001b[0;34m=\u001b[0m\u001b[0;34m[\u001b[0m\u001b[0;34m'customer_id'\u001b[0m\u001b[0;34m,\u001b[0m \u001b[0;34m'date_opened'\u001b[0m\u001b[0;34m]\u001b[0m\u001b[0;34m,\u001b[0m \u001b[0minplace\u001b[0m\u001b[0;34m=\u001b[0m\u001b[0;32mTrue\u001b[0m\u001b[0;34m)\u001b[0m\u001b[0;34m\u001b[0m\u001b[0;34m\u001b[0m\u001b[0m\n\u001b[1;32m      2\u001b[0m \u001b[0maccounts\u001b[0m\u001b[0;34m[\u001b[0m\u001b[0;34m'Account_ID'\u001b[0m\u001b[0;34m]\u001b[0m \u001b[0;34m=\u001b[0m \u001b[0maccounts\u001b[0m\u001b[0;34m.\u001b[0m\u001b[0mgroupby\u001b[0m\u001b[0;34m(\u001b[0m\u001b[0;34m'customer_id'\u001b[0m\u001b[0;34m)\u001b[0m\u001b[0;34m.\u001b[0m\u001b[0mcumcount\u001b[0m\u001b[0;34m(\u001b[0m\u001b[0;34m)\u001b[0m \u001b[0;34m+\u001b[0m \u001b[0;36m1\u001b[0m\u001b[0;34m\u001b[0m\u001b[0;34m\u001b[0m\u001b[0m\n\u001b[0;32m----> 3\u001b[0;31m \u001b[0maccounts\u001b[0m\u001b[0;34m[\u001b[0m\u001b[0;34m'Account_ID'\u001b[0m\u001b[0;34m]\u001b[0m \u001b[0;34m=\u001b[0m \u001b[0maccounts\u001b[0m\u001b[0;34m[\u001b[0m\u001b[0;34m'customer_id'\u001b[0m\u001b[0;34m]\u001b[0m\u001b[0;34m.\u001b[0m\u001b[0mastype\u001b[0m\u001b[0;34m(\u001b[0m\u001b[0mstr\u001b[0m\u001b[0;34m)\u001b[0m \u001b[0;34m+\u001b[0m \u001b[0maccounts\u001b[0m\u001b[0;34m[\u001b[0m\u001b[0;34m'Account Number'\u001b[0m\u001b[0;34m]\u001b[0m\u001b[0;34m.\u001b[0m\u001b[0mastype\u001b[0m\u001b[0;34m(\u001b[0m\u001b[0mstr\u001b[0m\u001b[0;34m)\u001b[0m\u001b[0;34m\u001b[0m\u001b[0;34m\u001b[0m\u001b[0m\n\u001b[0m\u001b[1;32m      4\u001b[0m \u001b[0maccounts\u001b[0m\u001b[0;34m\u001b[0m\u001b[0;34m\u001b[0m\u001b[0m\n",
      "\u001b[0;32m/opt/conda/lib/python3.9/site-packages/pandas/core/frame.py\u001b[0m in \u001b[0;36m__getitem__\u001b[0;34m(self, key)\u001b[0m\n\u001b[1;32m   3456\u001b[0m             \u001b[0;32mif\u001b[0m \u001b[0mself\u001b[0m\u001b[0;34m.\u001b[0m\u001b[0mcolumns\u001b[0m\u001b[0;34m.\u001b[0m\u001b[0mnlevels\u001b[0m \u001b[0;34m>\u001b[0m \u001b[0;36m1\u001b[0m\u001b[0;34m:\u001b[0m\u001b[0;34m\u001b[0m\u001b[0;34m\u001b[0m\u001b[0m\n\u001b[1;32m   3457\u001b[0m                 \u001b[0;32mreturn\u001b[0m \u001b[0mself\u001b[0m\u001b[0;34m.\u001b[0m\u001b[0m_getitem_multilevel\u001b[0m\u001b[0;34m(\u001b[0m\u001b[0mkey\u001b[0m\u001b[0;34m)\u001b[0m\u001b[0;34m\u001b[0m\u001b[0;34m\u001b[0m\u001b[0m\n\u001b[0;32m-> 3458\u001b[0;31m             \u001b[0mindexer\u001b[0m \u001b[0;34m=\u001b[0m \u001b[0mself\u001b[0m\u001b[0;34m.\u001b[0m\u001b[0mcolumns\u001b[0m\u001b[0;34m.\u001b[0m\u001b[0mget_loc\u001b[0m\u001b[0;34m(\u001b[0m\u001b[0mkey\u001b[0m\u001b[0;34m)\u001b[0m\u001b[0;34m\u001b[0m\u001b[0;34m\u001b[0m\u001b[0m\n\u001b[0m\u001b[1;32m   3459\u001b[0m             \u001b[0;32mif\u001b[0m \u001b[0mis_integer\u001b[0m\u001b[0;34m(\u001b[0m\u001b[0mindexer\u001b[0m\u001b[0;34m)\u001b[0m\u001b[0;34m:\u001b[0m\u001b[0;34m\u001b[0m\u001b[0;34m\u001b[0m\u001b[0m\n\u001b[1;32m   3460\u001b[0m                 \u001b[0mindexer\u001b[0m \u001b[0;34m=\u001b[0m \u001b[0;34m[\u001b[0m\u001b[0mindexer\u001b[0m\u001b[0;34m]\u001b[0m\u001b[0;34m\u001b[0m\u001b[0;34m\u001b[0m\u001b[0m\n",
      "\u001b[0;32m/opt/conda/lib/python3.9/site-packages/pandas/core/indexes/base.py\u001b[0m in \u001b[0;36mget_loc\u001b[0;34m(self, key, method, tolerance)\u001b[0m\n\u001b[1;32m   3361\u001b[0m                 \u001b[0;32mreturn\u001b[0m \u001b[0mself\u001b[0m\u001b[0;34m.\u001b[0m\u001b[0m_engine\u001b[0m\u001b[0;34m.\u001b[0m\u001b[0mget_loc\u001b[0m\u001b[0;34m(\u001b[0m\u001b[0mcasted_key\u001b[0m\u001b[0;34m)\u001b[0m\u001b[0;34m\u001b[0m\u001b[0;34m\u001b[0m\u001b[0m\n\u001b[1;32m   3362\u001b[0m             \u001b[0;32mexcept\u001b[0m \u001b[0mKeyError\u001b[0m \u001b[0;32mas\u001b[0m \u001b[0merr\u001b[0m\u001b[0;34m:\u001b[0m\u001b[0;34m\u001b[0m\u001b[0;34m\u001b[0m\u001b[0m\n\u001b[0;32m-> 3363\u001b[0;31m                 \u001b[0;32mraise\u001b[0m \u001b[0mKeyError\u001b[0m\u001b[0;34m(\u001b[0m\u001b[0mkey\u001b[0m\u001b[0;34m)\u001b[0m \u001b[0;32mfrom\u001b[0m \u001b[0merr\u001b[0m\u001b[0;34m\u001b[0m\u001b[0;34m\u001b[0m\u001b[0m\n\u001b[0m\u001b[1;32m   3364\u001b[0m \u001b[0;34m\u001b[0m\u001b[0m\n\u001b[1;32m   3365\u001b[0m         \u001b[0;32mif\u001b[0m \u001b[0mis_scalar\u001b[0m\u001b[0;34m(\u001b[0m\u001b[0mkey\u001b[0m\u001b[0;34m)\u001b[0m \u001b[0;32mand\u001b[0m \u001b[0misna\u001b[0m\u001b[0;34m(\u001b[0m\u001b[0mkey\u001b[0m\u001b[0;34m)\u001b[0m \u001b[0;32mand\u001b[0m \u001b[0;32mnot\u001b[0m \u001b[0mself\u001b[0m\u001b[0;34m.\u001b[0m\u001b[0mhasnans\u001b[0m\u001b[0;34m:\u001b[0m\u001b[0;34m\u001b[0m\u001b[0;34m\u001b[0m\u001b[0m\n",
      "\u001b[0;31mKeyError\u001b[0m: 'Account Number'"
     ]
    }
   ],
   "source": [
    "accounts.sort_values(by=['customer_id', 'date_opened'], inplace=True)\n",
    "accounts['Account_ID'] = accounts.groupby('customer_id').cumcount() + 1\n",
    "accounts['Account_ID'] = accounts['customer_id'].astype(str) + accounts['Account Number'].astype(str)\n",
    "accounts"
   ]
  },
  {
   "cell_type": "code",
   "execution_count": 153,
   "metadata": {},
   "outputs": [
    {
     "data": {
      "text/plain": [
       "0        20134.4\n",
       "1         8985.6\n",
       "2        35692.8\n",
       "3        22588.8\n",
       "4        17305.6\n",
       "          ...   \n",
       "19995    43430.4\n",
       "19996    23961.6\n",
       "19997    20716.8\n",
       "19998    58448.0\n",
       "19999    30950.4\n",
       "Name: total_credit_line, Length: 20000, dtype: float64"
      ]
     },
     "execution_count": 153,
     "metadata": {},
     "output_type": "execute_result"
    }
   ],
   "source": [
    "total_credit_line_column = customers['total_credit_line']\n",
    "total_credit_line_column"
   ]
  },
  {
   "cell_type": "code",
   "execution_count": 154,
   "metadata": {},
   "outputs": [],
   "source": [
    "accounts['total_credit_line'] = total_credit_line_column\n",
    "accounts['Account Credit Line'] = np.random.uniform(0.1, 0.9, size=len(accounts)) * accounts['total_credit_line']"
   ]
  },
  {
   "cell_type": "code",
   "execution_count": 155,
   "metadata": {},
   "outputs": [],
   "source": [
    "#merzing annual fee in accounts column\n",
    "accounts['Annual Fee'] = accounts['Account Credit Line'] * 0.01"
   ]
  },
  {
   "cell_type": "code",
   "execution_count": 156,
   "metadata": {},
   "outputs": [],
   "source": [
    "#merging annual interest rate in the accounts table..\n",
    "accounts['Annual Interest Rate'] = np.random.uniform(0.15, 0.30, size=len(accounts))"
   ]
  },
  {
   "cell_type": "code",
   "execution_count": 237,
   "metadata": {},
   "outputs": [],
   "source": [
    "#final account data.\n",
    "accounts\n",
    "df.to_csv(\"accounts.csv\",index=False)"
   ]
  },
  {
   "cell_type": "code",
   "execution_count": null,
   "metadata": {},
   "outputs": [],
   "source": []
  },
  {
   "cell_type": "code",
   "execution_count": 163,
   "metadata": {},
   "outputs": [],
   "source": [
    "customers.rename(columns={'customer_ID': 'customer_id'}, inplace=True)\n",
    "account_activity = pd.merge(accounts, customers, on='customer_id', how='inner')"
   ]
  },
  {
   "cell_type": "code",
   "execution_count": 164,
   "metadata": {
    "scrolled": true
   },
   "outputs": [
    {
     "data": {
      "text/html": [
       "<div>\n",
       "<style scoped>\n",
       "    .dataframe tbody tr th:only-of-type {\n",
       "        vertical-align: middle;\n",
       "    }\n",
       "\n",
       "    .dataframe tbody tr th {\n",
       "        vertical-align: top;\n",
       "    }\n",
       "\n",
       "    .dataframe thead th {\n",
       "        text-align: right;\n",
       "    }\n",
       "</style>\n",
       "<table border=\"1\" class=\"dataframe\">\n",
       "  <thead>\n",
       "    <tr style=\"text-align: right;\">\n",
       "      <th></th>\n",
       "      <th>customer_id</th>\n",
       "      <th>date_opened</th>\n",
       "      <th>Account_ID</th>\n",
       "      <th>total_credit_line_x</th>\n",
       "      <th>Account Credit Line</th>\n",
       "      <th>Annual Fee</th>\n",
       "      <th>Annual Interest Rate</th>\n",
       "      <th>ages</th>\n",
       "      <th>genders</th>\n",
       "      <th>marital_status</th>\n",
       "      <th>no_of_childrens</th>\n",
       "      <th>education_Level</th>\n",
       "      <th>annual_income</th>\n",
       "      <th>number_of_accounts</th>\n",
       "      <th>total_credit_line_y</th>\n",
       "    </tr>\n",
       "  </thead>\n",
       "  <tbody>\n",
       "    <tr>\n",
       "      <th>0</th>\n",
       "      <td>1000417</td>\n",
       "      <td>2017-02-26</td>\n",
       "      <td>1</td>\n",
       "      <td>36067.2</td>\n",
       "      <td>24304.033010</td>\n",
       "      <td>243.040330</td>\n",
       "      <td>0.262336</td>\n",
       "      <td>64</td>\n",
       "      <td>Female</td>\n",
       "      <td>1</td>\n",
       "      <td>1</td>\n",
       "      <td>3</td>\n",
       "      <td>120224.0</td>\n",
       "      <td>3</td>\n",
       "      <td>36067.2</td>\n",
       "    </tr>\n",
       "    <tr>\n",
       "      <th>1</th>\n",
       "      <td>1001734</td>\n",
       "      <td>2018-01-16</td>\n",
       "      <td>1</td>\n",
       "      <td>33280.0</td>\n",
       "      <td>23412.031822</td>\n",
       "      <td>234.120318</td>\n",
       "      <td>0.217576</td>\n",
       "      <td>25</td>\n",
       "      <td>Female</td>\n",
       "      <td>1</td>\n",
       "      <td>2</td>\n",
       "      <td>2</td>\n",
       "      <td>83200.0</td>\n",
       "      <td>4</td>\n",
       "      <td>33280.0</td>\n",
       "    </tr>\n",
       "    <tr>\n",
       "      <th>2</th>\n",
       "      <td>1001837</td>\n",
       "      <td>2017-01-04</td>\n",
       "      <td>1</td>\n",
       "      <td>20716.8</td>\n",
       "      <td>10518.609097</td>\n",
       "      <td>105.186091</td>\n",
       "      <td>0.205237</td>\n",
       "      <td>41</td>\n",
       "      <td>Female</td>\n",
       "      <td>1</td>\n",
       "      <td>1</td>\n",
       "      <td>1</td>\n",
       "      <td>69056.0</td>\n",
       "      <td>3</td>\n",
       "      <td>20716.8</td>\n",
       "    </tr>\n",
       "    <tr>\n",
       "      <th>3</th>\n",
       "      <td>1002845</td>\n",
       "      <td>2018-02-10</td>\n",
       "      <td>1</td>\n",
       "      <td>23462.4</td>\n",
       "      <td>8039.064437</td>\n",
       "      <td>80.390644</td>\n",
       "      <td>0.272925</td>\n",
       "      <td>63</td>\n",
       "      <td>Male</td>\n",
       "      <td>1</td>\n",
       "      <td>1</td>\n",
       "      <td>1</td>\n",
       "      <td>78208.0</td>\n",
       "      <td>3</td>\n",
       "      <td>23462.4</td>\n",
       "    </tr>\n",
       "    <tr>\n",
       "      <th>4</th>\n",
       "      <td>1002915</td>\n",
       "      <td>2021-03-07</td>\n",
       "      <td>1</td>\n",
       "      <td>30825.6</td>\n",
       "      <td>22327.992063</td>\n",
       "      <td>223.279921</td>\n",
       "      <td>0.299741</td>\n",
       "      <td>72</td>\n",
       "      <td>Male</td>\n",
       "      <td>1</td>\n",
       "      <td>1</td>\n",
       "      <td>2</td>\n",
       "      <td>102752.0</td>\n",
       "      <td>3</td>\n",
       "      <td>30825.6</td>\n",
       "    </tr>\n",
       "    <tr>\n",
       "      <th>...</th>\n",
       "      <td>...</td>\n",
       "      <td>...</td>\n",
       "      <td>...</td>\n",
       "      <td>...</td>\n",
       "      <td>...</td>\n",
       "      <td>...</td>\n",
       "      <td>...</td>\n",
       "      <td>...</td>\n",
       "      <td>...</td>\n",
       "      <td>...</td>\n",
       "      <td>...</td>\n",
       "      <td>...</td>\n",
       "      <td>...</td>\n",
       "      <td>...</td>\n",
       "      <td>...</td>\n",
       "    </tr>\n",
       "    <tr>\n",
       "      <th>19995</th>\n",
       "      <td>9999211</td>\n",
       "      <td>2019-11-19</td>\n",
       "      <td>1</td>\n",
       "      <td>10732.8</td>\n",
       "      <td>4935.868966</td>\n",
       "      <td>49.358690</td>\n",
       "      <td>0.200639</td>\n",
       "      <td>54</td>\n",
       "      <td>Male</td>\n",
       "      <td>1</td>\n",
       "      <td>0</td>\n",
       "      <td>0</td>\n",
       "      <td>53664.0</td>\n",
       "      <td>2</td>\n",
       "      <td>10732.8</td>\n",
       "    </tr>\n",
       "    <tr>\n",
       "      <th>19996</th>\n",
       "      <td>9999395</td>\n",
       "      <td>2020-08-14</td>\n",
       "      <td>1</td>\n",
       "      <td>20467.2</td>\n",
       "      <td>11859.857298</td>\n",
       "      <td>118.598573</td>\n",
       "      <td>0.229783</td>\n",
       "      <td>21</td>\n",
       "      <td>Female</td>\n",
       "      <td>1</td>\n",
       "      <td>0</td>\n",
       "      <td>3</td>\n",
       "      <td>102336.0</td>\n",
       "      <td>2</td>\n",
       "      <td>20467.2</td>\n",
       "    </tr>\n",
       "    <tr>\n",
       "      <th>19997</th>\n",
       "      <td>9999732</td>\n",
       "      <td>2019-12-01</td>\n",
       "      <td>1</td>\n",
       "      <td>16806.4</td>\n",
       "      <td>9304.570851</td>\n",
       "      <td>93.045709</td>\n",
       "      <td>0.159590</td>\n",
       "      <td>27</td>\n",
       "      <td>Female</td>\n",
       "      <td>1</td>\n",
       "      <td>0</td>\n",
       "      <td>2</td>\n",
       "      <td>84032.0</td>\n",
       "      <td>2</td>\n",
       "      <td>16806.4</td>\n",
       "    </tr>\n",
       "    <tr>\n",
       "      <th>19998</th>\n",
       "      <td>9999771</td>\n",
       "      <td>2020-02-02</td>\n",
       "      <td>1</td>\n",
       "      <td>13644.8</td>\n",
       "      <td>8066.635649</td>\n",
       "      <td>80.666356</td>\n",
       "      <td>0.241986</td>\n",
       "      <td>39</td>\n",
       "      <td>Female</td>\n",
       "      <td>0</td>\n",
       "      <td>1</td>\n",
       "      <td>1</td>\n",
       "      <td>68224.0</td>\n",
       "      <td>2</td>\n",
       "      <td>13644.8</td>\n",
       "    </tr>\n",
       "    <tr>\n",
       "      <th>19999</th>\n",
       "      <td>9999863</td>\n",
       "      <td>2020-05-06</td>\n",
       "      <td>1</td>\n",
       "      <td>17056.0</td>\n",
       "      <td>3618.921115</td>\n",
       "      <td>36.189211</td>\n",
       "      <td>0.254438</td>\n",
       "      <td>30</td>\n",
       "      <td>Female</td>\n",
       "      <td>0</td>\n",
       "      <td>1</td>\n",
       "      <td>2</td>\n",
       "      <td>85280.0</td>\n",
       "      <td>2</td>\n",
       "      <td>17056.0</td>\n",
       "    </tr>\n",
       "  </tbody>\n",
       "</table>\n",
       "<p>20000 rows × 15 columns</p>\n",
       "</div>"
      ],
      "text/plain": [
       "       customer_id date_opened  Account_ID  total_credit_line_x  \\\n",
       "0          1000417  2017-02-26           1              36067.2   \n",
       "1          1001734  2018-01-16           1              33280.0   \n",
       "2          1001837  2017-01-04           1              20716.8   \n",
       "3          1002845  2018-02-10           1              23462.4   \n",
       "4          1002915  2021-03-07           1              30825.6   \n",
       "...            ...         ...         ...                  ...   \n",
       "19995      9999211  2019-11-19           1              10732.8   \n",
       "19996      9999395  2020-08-14           1              20467.2   \n",
       "19997      9999732  2019-12-01           1              16806.4   \n",
       "19998      9999771  2020-02-02           1              13644.8   \n",
       "19999      9999863  2020-05-06           1              17056.0   \n",
       "\n",
       "       Account Credit Line  Annual Fee  Annual Interest Rate  ages genders  \\\n",
       "0             24304.033010  243.040330              0.262336    64  Female   \n",
       "1             23412.031822  234.120318              0.217576    25  Female   \n",
       "2             10518.609097  105.186091              0.205237    41  Female   \n",
       "3              8039.064437   80.390644              0.272925    63    Male   \n",
       "4             22327.992063  223.279921              0.299741    72    Male   \n",
       "...                    ...         ...                   ...   ...     ...   \n",
       "19995          4935.868966   49.358690              0.200639    54    Male   \n",
       "19996         11859.857298  118.598573              0.229783    21  Female   \n",
       "19997          9304.570851   93.045709              0.159590    27  Female   \n",
       "19998          8066.635649   80.666356              0.241986    39  Female   \n",
       "19999          3618.921115   36.189211              0.254438    30  Female   \n",
       "\n",
       "       marital_status  no_of_childrens  education_Level  annual_income  \\\n",
       "0                   1                1                3       120224.0   \n",
       "1                   1                2                2        83200.0   \n",
       "2                   1                1                1        69056.0   \n",
       "3                   1                1                1        78208.0   \n",
       "4                   1                1                2       102752.0   \n",
       "...               ...              ...              ...            ...   \n",
       "19995               1                0                0        53664.0   \n",
       "19996               1                0                3       102336.0   \n",
       "19997               1                0                2        84032.0   \n",
       "19998               0                1                1        68224.0   \n",
       "19999               0                1                2        85280.0   \n",
       "\n",
       "       number_of_accounts  total_credit_line_y  \n",
       "0                       3              36067.2  \n",
       "1                       4              33280.0  \n",
       "2                       3              20716.8  \n",
       "3                       3              23462.4  \n",
       "4                       3              30825.6  \n",
       "...                   ...                  ...  \n",
       "19995                   2              10732.8  \n",
       "19996                   2              20467.2  \n",
       "19997                   2              16806.4  \n",
       "19998                   2              13644.8  \n",
       "19999                   2              17056.0  \n",
       "\n",
       "[20000 rows x 15 columns]"
      ]
     },
     "execution_count": 164,
     "metadata": {},
     "output_type": "execute_result"
    }
   ],
   "source": [
    "account_activity"
   ]
  },
  {
   "cell_type": "code",
   "execution_count": 172,
   "metadata": {},
   "outputs": [
    {
     "data": {
      "text/html": [
       "<div>\n",
       "<style scoped>\n",
       "    .dataframe tbody tr th:only-of-type {\n",
       "        vertical-align: middle;\n",
       "    }\n",
       "\n",
       "    .dataframe tbody tr th {\n",
       "        vertical-align: top;\n",
       "    }\n",
       "\n",
       "    .dataframe thead th {\n",
       "        text-align: right;\n",
       "    }\n",
       "</style>\n",
       "<table border=\"1\" class=\"dataframe\">\n",
       "  <thead>\n",
       "    <tr style=\"text-align: right;\">\n",
       "      <th></th>\n",
       "      <th>customer_id</th>\n",
       "      <th>date_opened</th>\n",
       "      <th>Account_ID</th>\n",
       "      <th>total_credit_line_x</th>\n",
       "      <th>Account Credit Line</th>\n",
       "      <th>Annual Fee</th>\n",
       "      <th>Annual Interest Rate</th>\n",
       "      <th>ages</th>\n",
       "      <th>genders</th>\n",
       "      <th>marital_status</th>\n",
       "      <th>no_of_childrens</th>\n",
       "      <th>education_Level</th>\n",
       "      <th>annual_income</th>\n",
       "      <th>number_of_accounts</th>\n",
       "      <th>total_credit_line_y</th>\n",
       "      <th>Purchase Amount</th>\n",
       "    </tr>\n",
       "  </thead>\n",
       "  <tbody>\n",
       "    <tr>\n",
       "      <th>0</th>\n",
       "      <td>1000417</td>\n",
       "      <td>2017-02-26</td>\n",
       "      <td>1</td>\n",
       "      <td>36067.2</td>\n",
       "      <td>24304.033010</td>\n",
       "      <td>243.040330</td>\n",
       "      <td>0.262336</td>\n",
       "      <td>64</td>\n",
       "      <td>Female</td>\n",
       "      <td>1</td>\n",
       "      <td>1</td>\n",
       "      <td>3</td>\n",
       "      <td>120224.0</td>\n",
       "      <td>3</td>\n",
       "      <td>36067.2</td>\n",
       "      <td>17585.816326</td>\n",
       "    </tr>\n",
       "    <tr>\n",
       "      <th>1</th>\n",
       "      <td>1001734</td>\n",
       "      <td>2018-01-16</td>\n",
       "      <td>1</td>\n",
       "      <td>33280.0</td>\n",
       "      <td>23412.031822</td>\n",
       "      <td>234.120318</td>\n",
       "      <td>0.217576</td>\n",
       "      <td>25</td>\n",
       "      <td>Female</td>\n",
       "      <td>1</td>\n",
       "      <td>2</td>\n",
       "      <td>2</td>\n",
       "      <td>83200.0</td>\n",
       "      <td>4</td>\n",
       "      <td>33280.0</td>\n",
       "      <td>0.000000</td>\n",
       "    </tr>\n",
       "    <tr>\n",
       "      <th>2</th>\n",
       "      <td>1001837</td>\n",
       "      <td>2017-01-04</td>\n",
       "      <td>1</td>\n",
       "      <td>20716.8</td>\n",
       "      <td>10518.609097</td>\n",
       "      <td>105.186091</td>\n",
       "      <td>0.205237</td>\n",
       "      <td>41</td>\n",
       "      <td>Female</td>\n",
       "      <td>1</td>\n",
       "      <td>1</td>\n",
       "      <td>1</td>\n",
       "      <td>69056.0</td>\n",
       "      <td>3</td>\n",
       "      <td>20716.8</td>\n",
       "      <td>3801.220615</td>\n",
       "    </tr>\n",
       "    <tr>\n",
       "      <th>3</th>\n",
       "      <td>1002845</td>\n",
       "      <td>2018-02-10</td>\n",
       "      <td>1</td>\n",
       "      <td>23462.4</td>\n",
       "      <td>8039.064437</td>\n",
       "      <td>80.390644</td>\n",
       "      <td>0.272925</td>\n",
       "      <td>63</td>\n",
       "      <td>Male</td>\n",
       "      <td>1</td>\n",
       "      <td>1</td>\n",
       "      <td>1</td>\n",
       "      <td>78208.0</td>\n",
       "      <td>3</td>\n",
       "      <td>23462.4</td>\n",
       "      <td>8016.172366</td>\n",
       "    </tr>\n",
       "    <tr>\n",
       "      <th>4</th>\n",
       "      <td>1002915</td>\n",
       "      <td>2021-03-07</td>\n",
       "      <td>1</td>\n",
       "      <td>30825.6</td>\n",
       "      <td>22327.992063</td>\n",
       "      <td>223.279921</td>\n",
       "      <td>0.299741</td>\n",
       "      <td>72</td>\n",
       "      <td>Male</td>\n",
       "      <td>1</td>\n",
       "      <td>1</td>\n",
       "      <td>2</td>\n",
       "      <td>102752.0</td>\n",
       "      <td>3</td>\n",
       "      <td>30825.6</td>\n",
       "      <td>5113.455608</td>\n",
       "    </tr>\n",
       "    <tr>\n",
       "      <th>...</th>\n",
       "      <td>...</td>\n",
       "      <td>...</td>\n",
       "      <td>...</td>\n",
       "      <td>...</td>\n",
       "      <td>...</td>\n",
       "      <td>...</td>\n",
       "      <td>...</td>\n",
       "      <td>...</td>\n",
       "      <td>...</td>\n",
       "      <td>...</td>\n",
       "      <td>...</td>\n",
       "      <td>...</td>\n",
       "      <td>...</td>\n",
       "      <td>...</td>\n",
       "      <td>...</td>\n",
       "      <td>...</td>\n",
       "    </tr>\n",
       "    <tr>\n",
       "      <th>19995</th>\n",
       "      <td>9999211</td>\n",
       "      <td>2019-11-19</td>\n",
       "      <td>1</td>\n",
       "      <td>10732.8</td>\n",
       "      <td>4935.868966</td>\n",
       "      <td>49.358690</td>\n",
       "      <td>0.200639</td>\n",
       "      <td>54</td>\n",
       "      <td>Male</td>\n",
       "      <td>1</td>\n",
       "      <td>0</td>\n",
       "      <td>0</td>\n",
       "      <td>53664.0</td>\n",
       "      <td>2</td>\n",
       "      <td>10732.8</td>\n",
       "      <td>3643.444125</td>\n",
       "    </tr>\n",
       "    <tr>\n",
       "      <th>19996</th>\n",
       "      <td>9999395</td>\n",
       "      <td>2020-08-14</td>\n",
       "      <td>1</td>\n",
       "      <td>20467.2</td>\n",
       "      <td>11859.857298</td>\n",
       "      <td>118.598573</td>\n",
       "      <td>0.229783</td>\n",
       "      <td>21</td>\n",
       "      <td>Female</td>\n",
       "      <td>1</td>\n",
       "      <td>0</td>\n",
       "      <td>3</td>\n",
       "      <td>102336.0</td>\n",
       "      <td>2</td>\n",
       "      <td>20467.2</td>\n",
       "      <td>640.270258</td>\n",
       "    </tr>\n",
       "    <tr>\n",
       "      <th>19997</th>\n",
       "      <td>9999732</td>\n",
       "      <td>2019-12-01</td>\n",
       "      <td>1</td>\n",
       "      <td>16806.4</td>\n",
       "      <td>9304.570851</td>\n",
       "      <td>93.045709</td>\n",
       "      <td>0.159590</td>\n",
       "      <td>27</td>\n",
       "      <td>Female</td>\n",
       "      <td>1</td>\n",
       "      <td>0</td>\n",
       "      <td>2</td>\n",
       "      <td>84032.0</td>\n",
       "      <td>2</td>\n",
       "      <td>16806.4</td>\n",
       "      <td>2443.349870</td>\n",
       "    </tr>\n",
       "    <tr>\n",
       "      <th>19998</th>\n",
       "      <td>9999771</td>\n",
       "      <td>2020-02-02</td>\n",
       "      <td>1</td>\n",
       "      <td>13644.8</td>\n",
       "      <td>8066.635649</td>\n",
       "      <td>80.666356</td>\n",
       "      <td>0.241986</td>\n",
       "      <td>39</td>\n",
       "      <td>Female</td>\n",
       "      <td>0</td>\n",
       "      <td>1</td>\n",
       "      <td>1</td>\n",
       "      <td>68224.0</td>\n",
       "      <td>2</td>\n",
       "      <td>13644.8</td>\n",
       "      <td>1256.618961</td>\n",
       "    </tr>\n",
       "    <tr>\n",
       "      <th>19999</th>\n",
       "      <td>9999863</td>\n",
       "      <td>2020-05-06</td>\n",
       "      <td>1</td>\n",
       "      <td>17056.0</td>\n",
       "      <td>3618.921115</td>\n",
       "      <td>36.189211</td>\n",
       "      <td>0.254438</td>\n",
       "      <td>30</td>\n",
       "      <td>Female</td>\n",
       "      <td>0</td>\n",
       "      <td>1</td>\n",
       "      <td>2</td>\n",
       "      <td>85280.0</td>\n",
       "      <td>2</td>\n",
       "      <td>17056.0</td>\n",
       "      <td>1274.719884</td>\n",
       "    </tr>\n",
       "  </tbody>\n",
       "</table>\n",
       "<p>20000 rows × 16 columns</p>\n",
       "</div>"
      ],
      "text/plain": [
       "       customer_id date_opened  Account_ID  total_credit_line_x  \\\n",
       "0          1000417  2017-02-26           1              36067.2   \n",
       "1          1001734  2018-01-16           1              33280.0   \n",
       "2          1001837  2017-01-04           1              20716.8   \n",
       "3          1002845  2018-02-10           1              23462.4   \n",
       "4          1002915  2021-03-07           1              30825.6   \n",
       "...            ...         ...         ...                  ...   \n",
       "19995      9999211  2019-11-19           1              10732.8   \n",
       "19996      9999395  2020-08-14           1              20467.2   \n",
       "19997      9999732  2019-12-01           1              16806.4   \n",
       "19998      9999771  2020-02-02           1              13644.8   \n",
       "19999      9999863  2020-05-06           1              17056.0   \n",
       "\n",
       "       Account Credit Line  Annual Fee  Annual Interest Rate  ages genders  \\\n",
       "0             24304.033010  243.040330              0.262336    64  Female   \n",
       "1             23412.031822  234.120318              0.217576    25  Female   \n",
       "2             10518.609097  105.186091              0.205237    41  Female   \n",
       "3              8039.064437   80.390644              0.272925    63    Male   \n",
       "4             22327.992063  223.279921              0.299741    72    Male   \n",
       "...                    ...         ...                   ...   ...     ...   \n",
       "19995          4935.868966   49.358690              0.200639    54    Male   \n",
       "19996         11859.857298  118.598573              0.229783    21  Female   \n",
       "19997          9304.570851   93.045709              0.159590    27  Female   \n",
       "19998          8066.635649   80.666356              0.241986    39  Female   \n",
       "19999          3618.921115   36.189211              0.254438    30  Female   \n",
       "\n",
       "       marital_status  no_of_childrens  education_Level  annual_income  \\\n",
       "0                   1                1                3       120224.0   \n",
       "1                   1                2                2        83200.0   \n",
       "2                   1                1                1        69056.0   \n",
       "3                   1                1                1        78208.0   \n",
       "4                   1                1                2       102752.0   \n",
       "...               ...              ...              ...            ...   \n",
       "19995               1                0                0        53664.0   \n",
       "19996               1                0                3       102336.0   \n",
       "19997               1                0                2        84032.0   \n",
       "19998               0                1                1        68224.0   \n",
       "19999               0                1                2        85280.0   \n",
       "\n",
       "       number_of_accounts  total_credit_line_y  Purchase Amount  \n",
       "0                       3              36067.2     17585.816326  \n",
       "1                       4              33280.0         0.000000  \n",
       "2                       3              20716.8      3801.220615  \n",
       "3                       3              23462.4      8016.172366  \n",
       "4                       3              30825.6      5113.455608  \n",
       "...                   ...                  ...              ...  \n",
       "19995                   2              10732.8      3643.444125  \n",
       "19996                   2              20467.2       640.270258  \n",
       "19997                   2              16806.4      2443.349870  \n",
       "19998                   2              13644.8      1256.618961  \n",
       "19999                   2              17056.0      1274.719884  \n",
       "\n",
       "[20000 rows x 16 columns]"
      ]
     },
     "execution_count": 172,
     "metadata": {},
     "output_type": "execute_result"
    }
   ],
   "source": [
    "account_activity['Purchase Amount'] = np.where(\n",
    "    np.random.rand(len(account_activity)) < 0.95,\n",
    "    np.random.uniform(0, account_activity['Account Credit Line']),\n",
    "    0\n",
    ")\n",
    "account_activity"
   ]
  },
  {
   "cell_type": "code",
   "execution_count": 180,
   "metadata": {},
   "outputs": [],
   "source": [
    "\n",
    "\n",
    "account_activity['Cash Advance Amount'] = np.where(\n",
    "    np.random.rand(len(account_activity)) < 0.05,\n",
    "    np.minimum(0.1 * account_activity['Account Credit Line'], account_activity['total_credit_line_x']),\n",
    "    0\n",
    ")"
   ]
  },
  {
   "cell_type": "code",
   "execution_count": 181,
   "metadata": {},
   "outputs": [
    {
     "data": {
      "text/html": [
       "<div>\n",
       "<style scoped>\n",
       "    .dataframe tbody tr th:only-of-type {\n",
       "        vertical-align: middle;\n",
       "    }\n",
       "\n",
       "    .dataframe tbody tr th {\n",
       "        vertical-align: top;\n",
       "    }\n",
       "\n",
       "    .dataframe thead th {\n",
       "        text-align: right;\n",
       "    }\n",
       "</style>\n",
       "<table border=\"1\" class=\"dataframe\">\n",
       "  <thead>\n",
       "    <tr style=\"text-align: right;\">\n",
       "      <th></th>\n",
       "      <th>customer_id</th>\n",
       "      <th>date_opened</th>\n",
       "      <th>Account_ID</th>\n",
       "      <th>total_credit_line_x</th>\n",
       "      <th>Account Credit Line</th>\n",
       "      <th>Annual Fee</th>\n",
       "      <th>Annual Interest Rate</th>\n",
       "      <th>ages</th>\n",
       "      <th>genders</th>\n",
       "      <th>marital_status</th>\n",
       "      <th>no_of_childrens</th>\n",
       "      <th>education_Level</th>\n",
       "      <th>annual_income</th>\n",
       "      <th>number_of_accounts</th>\n",
       "      <th>total_credit_line_y</th>\n",
       "      <th>Purchase Amount</th>\n",
       "      <th>Cash Advance Amount</th>\n",
       "      <th>Balance Amount</th>\n",
       "    </tr>\n",
       "  </thead>\n",
       "  <tbody>\n",
       "    <tr>\n",
       "      <th>0</th>\n",
       "      <td>1000417</td>\n",
       "      <td>2017-02-26</td>\n",
       "      <td>1</td>\n",
       "      <td>36067.2</td>\n",
       "      <td>24304.033010</td>\n",
       "      <td>243.040330</td>\n",
       "      <td>0.262336</td>\n",
       "      <td>64</td>\n",
       "      <td>Female</td>\n",
       "      <td>1</td>\n",
       "      <td>1</td>\n",
       "      <td>3</td>\n",
       "      <td>120224.0</td>\n",
       "      <td>3</td>\n",
       "      <td>36067.2</td>\n",
       "      <td>17585.816326</td>\n",
       "      <td>0.0</td>\n",
       "      <td>1.758582e+04</td>\n",
       "    </tr>\n",
       "    <tr>\n",
       "      <th>1</th>\n",
       "      <td>1001734</td>\n",
       "      <td>2018-01-16</td>\n",
       "      <td>1</td>\n",
       "      <td>33280.0</td>\n",
       "      <td>23412.031822</td>\n",
       "      <td>234.120318</td>\n",
       "      <td>0.217576</td>\n",
       "      <td>25</td>\n",
       "      <td>Female</td>\n",
       "      <td>1</td>\n",
       "      <td>2</td>\n",
       "      <td>2</td>\n",
       "      <td>83200.0</td>\n",
       "      <td>4</td>\n",
       "      <td>33280.0</td>\n",
       "      <td>0.000000</td>\n",
       "      <td>0.0</td>\n",
       "      <td>1.758582e+04</td>\n",
       "    </tr>\n",
       "    <tr>\n",
       "      <th>2</th>\n",
       "      <td>1001837</td>\n",
       "      <td>2017-01-04</td>\n",
       "      <td>1</td>\n",
       "      <td>20716.8</td>\n",
       "      <td>10518.609097</td>\n",
       "      <td>105.186091</td>\n",
       "      <td>0.205237</td>\n",
       "      <td>41</td>\n",
       "      <td>Female</td>\n",
       "      <td>1</td>\n",
       "      <td>1</td>\n",
       "      <td>1</td>\n",
       "      <td>69056.0</td>\n",
       "      <td>3</td>\n",
       "      <td>20716.8</td>\n",
       "      <td>3801.220615</td>\n",
       "      <td>0.0</td>\n",
       "      <td>2.138704e+04</td>\n",
       "    </tr>\n",
       "    <tr>\n",
       "      <th>3</th>\n",
       "      <td>1002845</td>\n",
       "      <td>2018-02-10</td>\n",
       "      <td>1</td>\n",
       "      <td>23462.4</td>\n",
       "      <td>8039.064437</td>\n",
       "      <td>80.390644</td>\n",
       "      <td>0.272925</td>\n",
       "      <td>63</td>\n",
       "      <td>Male</td>\n",
       "      <td>1</td>\n",
       "      <td>1</td>\n",
       "      <td>1</td>\n",
       "      <td>78208.0</td>\n",
       "      <td>3</td>\n",
       "      <td>23462.4</td>\n",
       "      <td>8016.172366</td>\n",
       "      <td>0.0</td>\n",
       "      <td>2.940321e+04</td>\n",
       "    </tr>\n",
       "    <tr>\n",
       "      <th>4</th>\n",
       "      <td>1002915</td>\n",
       "      <td>2021-03-07</td>\n",
       "      <td>1</td>\n",
       "      <td>30825.6</td>\n",
       "      <td>22327.992063</td>\n",
       "      <td>223.279921</td>\n",
       "      <td>0.299741</td>\n",
       "      <td>72</td>\n",
       "      <td>Male</td>\n",
       "      <td>1</td>\n",
       "      <td>1</td>\n",
       "      <td>2</td>\n",
       "      <td>102752.0</td>\n",
       "      <td>3</td>\n",
       "      <td>30825.6</td>\n",
       "      <td>5113.455608</td>\n",
       "      <td>0.0</td>\n",
       "      <td>3.451666e+04</td>\n",
       "    </tr>\n",
       "    <tr>\n",
       "      <th>...</th>\n",
       "      <td>...</td>\n",
       "      <td>...</td>\n",
       "      <td>...</td>\n",
       "      <td>...</td>\n",
       "      <td>...</td>\n",
       "      <td>...</td>\n",
       "      <td>...</td>\n",
       "      <td>...</td>\n",
       "      <td>...</td>\n",
       "      <td>...</td>\n",
       "      <td>...</td>\n",
       "      <td>...</td>\n",
       "      <td>...</td>\n",
       "      <td>...</td>\n",
       "      <td>...</td>\n",
       "      <td>...</td>\n",
       "      <td>...</td>\n",
       "      <td>...</td>\n",
       "    </tr>\n",
       "    <tr>\n",
       "      <th>19995</th>\n",
       "      <td>9999211</td>\n",
       "      <td>2019-11-19</td>\n",
       "      <td>1</td>\n",
       "      <td>10732.8</td>\n",
       "      <td>4935.868966</td>\n",
       "      <td>49.358690</td>\n",
       "      <td>0.200639</td>\n",
       "      <td>54</td>\n",
       "      <td>Male</td>\n",
       "      <td>1</td>\n",
       "      <td>0</td>\n",
       "      <td>0</td>\n",
       "      <td>53664.0</td>\n",
       "      <td>2</td>\n",
       "      <td>10732.8</td>\n",
       "      <td>3643.444125</td>\n",
       "      <td>0.0</td>\n",
       "      <td>1.262408e+08</td>\n",
       "    </tr>\n",
       "    <tr>\n",
       "      <th>19996</th>\n",
       "      <td>9999395</td>\n",
       "      <td>2020-08-14</td>\n",
       "      <td>1</td>\n",
       "      <td>20467.2</td>\n",
       "      <td>11859.857298</td>\n",
       "      <td>118.598573</td>\n",
       "      <td>0.229783</td>\n",
       "      <td>21</td>\n",
       "      <td>Female</td>\n",
       "      <td>1</td>\n",
       "      <td>0</td>\n",
       "      <td>3</td>\n",
       "      <td>102336.0</td>\n",
       "      <td>2</td>\n",
       "      <td>20467.2</td>\n",
       "      <td>640.270258</td>\n",
       "      <td>0.0</td>\n",
       "      <td>1.262414e+08</td>\n",
       "    </tr>\n",
       "    <tr>\n",
       "      <th>19997</th>\n",
       "      <td>9999732</td>\n",
       "      <td>2019-12-01</td>\n",
       "      <td>1</td>\n",
       "      <td>16806.4</td>\n",
       "      <td>9304.570851</td>\n",
       "      <td>93.045709</td>\n",
       "      <td>0.159590</td>\n",
       "      <td>27</td>\n",
       "      <td>Female</td>\n",
       "      <td>1</td>\n",
       "      <td>0</td>\n",
       "      <td>2</td>\n",
       "      <td>84032.0</td>\n",
       "      <td>2</td>\n",
       "      <td>16806.4</td>\n",
       "      <td>2443.349870</td>\n",
       "      <td>0.0</td>\n",
       "      <td>1.262439e+08</td>\n",
       "    </tr>\n",
       "    <tr>\n",
       "      <th>19998</th>\n",
       "      <td>9999771</td>\n",
       "      <td>2020-02-02</td>\n",
       "      <td>1</td>\n",
       "      <td>13644.8</td>\n",
       "      <td>8066.635649</td>\n",
       "      <td>80.666356</td>\n",
       "      <td>0.241986</td>\n",
       "      <td>39</td>\n",
       "      <td>Female</td>\n",
       "      <td>0</td>\n",
       "      <td>1</td>\n",
       "      <td>1</td>\n",
       "      <td>68224.0</td>\n",
       "      <td>2</td>\n",
       "      <td>13644.8</td>\n",
       "      <td>1256.618961</td>\n",
       "      <td>0.0</td>\n",
       "      <td>1.262465e+08</td>\n",
       "    </tr>\n",
       "    <tr>\n",
       "      <th>19999</th>\n",
       "      <td>9999863</td>\n",
       "      <td>2020-05-06</td>\n",
       "      <td>1</td>\n",
       "      <td>17056.0</td>\n",
       "      <td>3618.921115</td>\n",
       "      <td>36.189211</td>\n",
       "      <td>0.254438</td>\n",
       "      <td>30</td>\n",
       "      <td>Female</td>\n",
       "      <td>0</td>\n",
       "      <td>1</td>\n",
       "      <td>2</td>\n",
       "      <td>85280.0</td>\n",
       "      <td>2</td>\n",
       "      <td>17056.0</td>\n",
       "      <td>1274.719884</td>\n",
       "      <td>0.0</td>\n",
       "      <td>1.262478e+08</td>\n",
       "    </tr>\n",
       "  </tbody>\n",
       "</table>\n",
       "<p>20000 rows × 18 columns</p>\n",
       "</div>"
      ],
      "text/plain": [
       "       customer_id date_opened  Account_ID  total_credit_line_x  \\\n",
       "0          1000417  2017-02-26           1              36067.2   \n",
       "1          1001734  2018-01-16           1              33280.0   \n",
       "2          1001837  2017-01-04           1              20716.8   \n",
       "3          1002845  2018-02-10           1              23462.4   \n",
       "4          1002915  2021-03-07           1              30825.6   \n",
       "...            ...         ...         ...                  ...   \n",
       "19995      9999211  2019-11-19           1              10732.8   \n",
       "19996      9999395  2020-08-14           1              20467.2   \n",
       "19997      9999732  2019-12-01           1              16806.4   \n",
       "19998      9999771  2020-02-02           1              13644.8   \n",
       "19999      9999863  2020-05-06           1              17056.0   \n",
       "\n",
       "       Account Credit Line  Annual Fee  Annual Interest Rate  ages genders  \\\n",
       "0             24304.033010  243.040330              0.262336    64  Female   \n",
       "1             23412.031822  234.120318              0.217576    25  Female   \n",
       "2             10518.609097  105.186091              0.205237    41  Female   \n",
       "3              8039.064437   80.390644              0.272925    63    Male   \n",
       "4             22327.992063  223.279921              0.299741    72    Male   \n",
       "...                    ...         ...                   ...   ...     ...   \n",
       "19995          4935.868966   49.358690              0.200639    54    Male   \n",
       "19996         11859.857298  118.598573              0.229783    21  Female   \n",
       "19997          9304.570851   93.045709              0.159590    27  Female   \n",
       "19998          8066.635649   80.666356              0.241986    39  Female   \n",
       "19999          3618.921115   36.189211              0.254438    30  Female   \n",
       "\n",
       "       marital_status  no_of_childrens  education_Level  annual_income  \\\n",
       "0                   1                1                3       120224.0   \n",
       "1                   1                2                2        83200.0   \n",
       "2                   1                1                1        69056.0   \n",
       "3                   1                1                1        78208.0   \n",
       "4                   1                1                2       102752.0   \n",
       "...               ...              ...              ...            ...   \n",
       "19995               1                0                0        53664.0   \n",
       "19996               1                0                3       102336.0   \n",
       "19997               1                0                2        84032.0   \n",
       "19998               0                1                1        68224.0   \n",
       "19999               0                1                2        85280.0   \n",
       "\n",
       "       number_of_accounts  total_credit_line_y  Purchase Amount  \\\n",
       "0                       3              36067.2     17585.816326   \n",
       "1                       4              33280.0         0.000000   \n",
       "2                       3              20716.8      3801.220615   \n",
       "3                       3              23462.4      8016.172366   \n",
       "4                       3              30825.6      5113.455608   \n",
       "...                   ...                  ...              ...   \n",
       "19995                   2              10732.8      3643.444125   \n",
       "19996                   2              20467.2       640.270258   \n",
       "19997                   2              16806.4      2443.349870   \n",
       "19998                   2              13644.8      1256.618961   \n",
       "19999                   2              17056.0      1274.719884   \n",
       "\n",
       "       Cash Advance Amount  Balance Amount  \n",
       "0                      0.0    1.758582e+04  \n",
       "1                      0.0    1.758582e+04  \n",
       "2                      0.0    2.138704e+04  \n",
       "3                      0.0    2.940321e+04  \n",
       "4                      0.0    3.451666e+04  \n",
       "...                    ...             ...  \n",
       "19995                  0.0    1.262408e+08  \n",
       "19996                  0.0    1.262414e+08  \n",
       "19997                  0.0    1.262439e+08  \n",
       "19998                  0.0    1.262465e+08  \n",
       "19999                  0.0    1.262478e+08  \n",
       "\n",
       "[20000 rows x 18 columns]"
      ]
     },
     "execution_count": 181,
     "metadata": {},
     "output_type": "execute_result"
    }
   ],
   "source": [
    "account_activity"
   ]
  },
  {
   "cell_type": "code",
   "execution_count": 185,
   "metadata": {},
   "outputs": [],
   "source": [
    "account_activity['Balance Amount'] = account_activity.groupby('Account_ID')['Purchase Amount'].cumsum() + \\\n",
    "                                    account_activity.groupby('Account_ID')['Cash Advance Amount'].cumsum()"
   ]
  },
  {
   "cell_type": "markdown",
   "metadata": {},
   "source": [
    "# Cohort information\n"
   ]
  },
  {
   "cell_type": "code",
   "execution_count": 188,
   "metadata": {},
   "outputs": [
    {
     "data": {
      "text/plain": [
       "20000"
      ]
     },
     "execution_count": 188,
     "metadata": {},
     "output_type": "execute_result"
    }
   ],
   "source": [
    "#1\n",
    "customers = account_activity['customer_id'].nunique()\n",
    "customers"
   ]
  },
  {
   "cell_type": "code",
   "execution_count": 192,
   "metadata": {},
   "outputs": [
    {
     "name": "stdout",
     "output_type": "stream",
     "text": [
      "Minimum Customer ID: 1000417\n",
      "Maximum Customer ID: 9999863\n"
     ]
    }
   ],
   "source": [
    "#2.\n",
    "min_customer_id = account_activity['customer_id'].min()\n",
    "max_customer_id = account_activity['customer_id'].max()\n",
    "\n",
    "print(f\"Minimum Customer ID: {min_customer_id}\")\n",
    "print(f\"Maximum Customer ID: {max_customer_id}\")\n"
   ]
  },
  {
   "cell_type": "code",
   "execution_count": 194,
   "metadata": {},
   "outputs": [
    {
     "name": "stdout",
     "output_type": "stream",
     "text": [
      "unique Customer IDs: 20000\n"
     ]
    }
   ],
   "source": [
    "customer_ids = account_activity['customer_id'].nunique()\n",
    "print(f\"unique Customer IDs: {customer_ids}\")\n"
   ]
  },
  {
   "cell_type": "code",
   "execution_count": 195,
   "metadata": {},
   "outputs": [
    {
     "name": "stdout",
     "output_type": "stream",
     "text": [
      "Minimum Age: 20.0\n",
      "25th Percentile (P25): 35.0\n",
      "Median Age: 50.0\n",
      "75th Percentile (P75): 65.0\n",
      "Maximum Age: 80.0\n",
      "Mean Age: 50.0682\n",
      "Standard Deviation of Age: 17.27310530183672\n"
     ]
    }
   ],
   "source": [
    "age_statistics = account_activity['ages'].describe(percentiles=[.25, .5, .75])\n",
    "\n",
    "min_age = age_statistics['min']\n",
    "p25_age = age_statistics['25%']\n",
    "median_age = age_statistics['50%']  # This is the median\n",
    "p75_age = age_statistics['75%']\n",
    "max_age = age_statistics['max']\n",
    "mean_age = age_statistics['mean']\n",
    "std_dev_age = age_statistics['std']\n",
    "\n",
    "print(f\"Minimum Age: {min_age}\")\n",
    "print(f\"25th Percentile (P25): {p25_age}\")\n",
    "print(f\"Median Age: {median_age}\")\n",
    "print(f\"75th Percentile (P75): {p75_age}\")\n",
    "print(f\"Maximum Age: {max_age}\")\n",
    "print(f\"Mean Age: {mean_age}\")\n",
    "print(f\"Standard Deviation of Age: {std_dev_age}\")\n"
   ]
  },
  {
   "cell_type": "code",
   "execution_count": 196,
   "metadata": {},
   "outputs": [
    {
     "name": "stdout",
     "output_type": "stream",
     "text": [
      "  Category  Frequency\n",
      "0     Male      10058\n",
      "1   Female       9942\n"
     ]
    }
   ],
   "source": [
    "#5.\n",
    "gender_frequency_table = account_activity['genders'].value_counts()\n",
    "\n",
    "gender_table = pd.DataFrame({\n",
    "    'Category': gender_frequency_table.index,\n",
    "    'Frequency': gender_frequency_table.values\n",
    "})\n",
    "\n",
    "print(gender_table)\n"
   ]
  },
  {
   "cell_type": "code",
   "execution_count": 198,
   "metadata": {},
   "outputs": [
    {
     "name": "stdout",
     "output_type": "stream",
     "text": [
      "   Category  Frequency  Percent Frequency  Cumulative Frequency  \\\n",
      "0         1      11600               58.0                 11600   \n",
      "1         0       8400               42.0                 20000   \n",
      "\n",
      "   Cumulative Percent Frequency  \n",
      "0                          58.0  \n",
      "1                         100.0  \n"
     ]
    }
   ],
   "source": [
    "#6.\n",
    "annual_activity = account_activity\n",
    "marital_status_frequency_table = annual_activity['marital_status'].value_counts()\n",
    "marital_status_percent_frequency = annual_activity['marital_status'].value_counts(normalize=True) * 100\n",
    "marital_status_cumulative_frequency = marital_status_frequency_table.cumsum()\n",
    "marital_status_cumulative_percent_frequency = marital_status_percent_frequency.cumsum()\n",
    "\n",
    "\n",
    "marital_status_table = pd.DataFrame({\n",
    "    'Category': marital_status_frequency_table.index,\n",
    "    'Frequency': marital_status_frequency_table.values,\n",
    "    'Percent Frequency': marital_status_percent_frequency.values,\n",
    "    'Cumulative Frequency': marital_status_cumulative_frequency.values,\n",
    "    'Cumulative Percent Frequency': marital_status_cumulative_percent_frequency.values\n",
    "})\n",
    "\n",
    "print(marital_status_table)\n"
   ]
  },
  {
   "cell_type": "code",
   "execution_count": 199,
   "metadata": {},
   "outputs": [],
   "source": [
    "#7."
   ]
  },
  {
   "cell_type": "code",
   "execution_count": 201,
   "metadata": {},
   "outputs": [
    {
     "name": "stdout",
     "output_type": "stream",
     "text": [
      "Percent Frequency of Marital Status for customers with age in [20, 30]:\n",
      "1    58.955659\n",
      "0    41.044341\n",
      "Name: marital_status, dtype: float64\n",
      "\n",
      "Percent Frequency of Marital Status for customers with age in (30, 60]:\n",
      "1    57.67285\n",
      "0    42.32715\n",
      "Name: marital_status, dtype: float64\n",
      "\n",
      "Percent Frequency of Marital Status for customers with age in (60, 80]:\n",
      "1    58.003389\n",
      "0    41.996611\n",
      "Name: marital_status, dtype: float64\n"
     ]
    }
   ],
   "source": [
    "#age in [20, 30]\n",
    "age_20_30 = annual_activity[(annual_activity['ages'] >= 20) & (annual_activity['ages'] <= 30)]\n",
    "marital_status_20_30_percent_frequency = age_20_30['marital_status'].value_counts(normalize=True) * 100\n",
    "\n",
    "#  age in (30, 60]\n",
    "age_30_60 = annual_activity[(annual_activity['ages'] > 30) & (annual_activity['ages'] <= 60)]\n",
    "marital_status_30_60_percent_frequency = age_30_60['marital_status'].value_counts(normalize=True) * 100\n",
    "\n",
    "# age in (60, 80]\n",
    "age_60_80 = annual_activity[(annual_activity['ages'] > 60) & (annual_activity['ages'] <= 80)]\n",
    "marital_status_60_80_percent_frequency = age_60_80['marital_status'].value_counts(normalize=True) * 100\n",
    "\n",
    "\n",
    "print(\"Percent Frequency of Marital Status for customers with age in [20, 30]:\")\n",
    "print(marital_status_20_30_percent_frequency)\n",
    "\n",
    "print(\"\\nPercent Frequency of Marital Status for customers with age in (30, 60]:\")\n",
    "print(marital_status_30_60_percent_frequency)\n",
    "\n",
    "print(\"\\nPercent Frequency of Marital Status for customers with age in (60, 80]:\")\n",
    "print(marital_status_60_80_percent_frequency)\n"
   ]
  },
  {
   "cell_type": "code",
   "execution_count": 202,
   "metadata": {},
   "outputs": [
    {
     "name": "stdout",
     "output_type": "stream",
     "text": [
      "   Category  Frequency  Percent Frequency  Cumulative Frequency  \\\n",
      "0         1       5956             29.780                  5956   \n",
      "1         2       5199             25.995                 11155   \n",
      "2         0       4176             20.880                 15331   \n",
      "3         3       3345             16.725                 18676   \n",
      "4         4       1324              6.620                 20000   \n",
      "\n",
      "   Cumulative Percent Frequency  \n",
      "0                        29.780  \n",
      "1                        55.775  \n",
      "2                        76.655  \n",
      "3                        93.380  \n",
      "4                       100.000  \n"
     ]
    }
   ],
   "source": [
    "\n",
    "children_frequency_table = annual_activity['no_of_childrens'].value_counts()\n",
    "children_percent_frequency = annual_activity['no_of_childrens'].value_counts(normalize=True) * 100\n",
    "children_cumulative_frequency = children_frequency_table.cumsum()\n",
    "children_cumulative_percent_frequency = children_percent_frequency.cumsum()\n",
    "\n",
    "\n",
    "children_table = pd.DataFrame({\n",
    "    'Category': children_frequency_table.index,\n",
    "    'Frequency': children_frequency_table.values,\n",
    "    'Percent Frequency': children_percent_frequency.values,\n",
    "    'Cumulative Frequency': children_cumulative_frequency.values,\n",
    "    'Cumulative Percent Frequency': children_cumulative_percent_frequency.values\n",
    "})\n",
    "\n",
    "print(children_table)\n"
   ]
  },
  {
   "cell_type": "code",
   "execution_count": 203,
   "metadata": {},
   "outputs": [],
   "source": [
    "#9."
   ]
  },
  {
   "cell_type": "code",
   "execution_count": 204,
   "metadata": {},
   "outputs": [
    {
     "name": "stdout",
     "output_type": "stream",
     "text": [
      "Percent Frequency of Number of Children for customers with age in [20, 40]:\n",
      "0    41.048292\n",
      "1    29.858657\n",
      "2    19.125442\n",
      "3     9.967609\n",
      "Name: no_of_childrens, dtype: float64\n",
      "\n",
      "Percent Frequency of Number of Children for customers with age in (40, 80]:\n",
      "1    29.739552\n",
      "2    29.527559\n",
      "3    20.199879\n",
      "0    10.508783\n",
      "4    10.024228\n",
      "Name: no_of_childrens, dtype: float64\n"
     ]
    }
   ],
   "source": [
    "# age in [20, 40]\n",
    "age_20_40 = annual_activity[(annual_activity['ages'] >= 20) & (annual_activity['ages'] <= 40)]\n",
    "children_20_40_percent_frequency = age_20_40['no_of_childrens'].value_counts(normalize=True) * 100\n",
    "\n",
    "#  age in (40, 80]\n",
    "age_40_80 = annual_activity[(annual_activity['ages'] > 40) & (annual_activity['ages'] <= 80)]\n",
    "children_40_80_percent_frequency = age_40_80['no_of_childrens'].value_counts(normalize=True) * 100\n",
    "\n",
    "\n",
    "print(\"Percent Frequency of Number of Children for customers with age in [20, 40]:\")\n",
    "print(children_20_40_percent_frequency)\n",
    "\n",
    "print(\"\\nPercent Frequency of Number of Children for customers with age in (40, 80]:\")\n",
    "print(children_40_80_percent_frequency)\n"
   ]
  },
  {
   "cell_type": "code",
   "execution_count": 205,
   "metadata": {},
   "outputs": [
    {
     "name": "stdout",
     "output_type": "stream",
     "text": [
      "   Category  Frequency  Percent Frequency  Cumulative Frequency  \\\n",
      "0         1      10080             50.400                 10080   \n",
      "1         2       5952             29.760                 16032   \n",
      "2         0       1999              9.995                 18031   \n",
      "3         3       1969              9.845                 20000   \n",
      "\n",
      "   Cumulative Percent Frequency  \n",
      "0                        50.400  \n",
      "1                        80.160  \n",
      "2                        90.155  \n",
      "3                       100.000  \n"
     ]
    }
   ],
   "source": [
    "\n",
    "education_frequency_table = annual_activity['education_Level'].value_counts()\n",
    "education_percent_frequency = annual_activity['education_Level'].value_counts(normalize=True) * 100\n",
    "education_cumulative_frequency = education_frequency_table.cumsum()\n",
    "education_cumulative_percent_frequency = education_percent_frequency.cumsum()\n",
    "\n",
    "\n",
    "education_table = pd.DataFrame({\n",
    "    'Category': education_frequency_table.index,\n",
    "    'Frequency': education_frequency_table.values,\n",
    "    'Percent Frequency': education_percent_frequency.values,\n",
    "    'Cumulative Frequency': education_cumulative_frequency.values,\n",
    "    'Cumulative Percent Frequency': education_cumulative_percent_frequency.values\n",
    "})\n",
    "\n",
    "print(education_table)\n"
   ]
  },
  {
   "cell_type": "code",
   "execution_count": 206,
   "metadata": {},
   "outputs": [
    {
     "name": "stdout",
     "output_type": "stream",
     "text": [
      "Percent Frequency of Education Level for customers with age in [20, 25]:\n",
      "1    51.367951\n",
      "2    28.252373\n",
      "0    10.552764\n",
      "3     9.826912\n",
      "Name: education_Level, dtype: float64\n",
      "\n",
      "Percent Frequency of Education Level for customers with age in (25, 35]:\n",
      "1    49.608434\n",
      "2    29.909639\n",
      "0    10.722892\n",
      "3     9.759036\n",
      "Name: education_Level, dtype: float64\n",
      "\n",
      "Percent Frequency of Education Level for customers with age in (35, 80]:\n",
      "1    50.460071\n",
      "2    29.907986\n",
      "3     9.866344\n",
      "0     9.765599\n",
      "Name: education_Level, dtype: float64\n"
     ]
    }
   ],
   "source": [
    "#11.\n",
    "# age in [20, 25]\n",
    "age_20_25 = annual_activity[(annual_activity['ages'] >= 20) & (annual_activity['ages'] <= 25)]\n",
    "education_20_25_percent_frequency = age_20_25['education_Level'].value_counts(normalize=True) * 100\n",
    "\n",
    "# age in (25, 35]\n",
    "age_25_35 = annual_activity[(annual_activity['ages'] > 25) & (annual_activity['ages'] <= 35)]\n",
    "education_25_35_percent_frequency = age_25_35['education_Level'].value_counts(normalize=True) * 100\n",
    "\n",
    "# age in (35, 80]\n",
    "age_35_80 = annual_activity[(annual_activity['ages'] > 35) & (annual_activity['ages'] <= 80)]\n",
    "education_35_80_percent_frequency = age_35_80['education_Level'].value_counts(normalize=True) * 100\n",
    "\n",
    "\n",
    "print(\"Percent Frequency of Education Level for customers with age in [20, 25]:\")\n",
    "print(education_20_25_percent_frequency)\n",
    "\n",
    "print(\"\\nPercent Frequency of Education Level for customers with age in (25, 35]:\")\n",
    "print(education_25_35_percent_frequency)\n",
    "\n",
    "print(\"\\nPercent Frequency of Education Level for customers with age in (35, 80]:\")\n",
    "print(education_35_80_percent_frequency)\n"
   ]
  },
  {
   "cell_type": "code",
   "execution_count": 207,
   "metadata": {},
   "outputs": [],
   "source": [
    "#12."
   ]
  },
  {
   "cell_type": "code",
   "execution_count": 208,
   "metadata": {},
   "outputs": [
    {
     "name": "stdout",
     "output_type": "stream",
     "text": [
      "Minimum Annual Income: 39520.0\n",
      "25th Percentile (P25) Annual Income: 67808.0\n",
      "Median Annual Income: 80288.0\n",
      "75th Percentile (P75) Annual Income: 93600.0\n",
      "Maximum Annual Income: 126880.0\n",
      "Mean Annual Income: 81035.0112\n",
      "Standard Deviation of Annual Income: 18101.49720990853\n"
     ]
    }
   ],
   "source": [
    "\n",
    "annual_income_statistics = annual_activity['annual_income'].describe(percentiles=[.25, .5, .75])\n",
    "\n",
    "min_annual_income = annual_income_statistics['min']\n",
    "p25_annual_income = annual_income_statistics['25%']\n",
    "median_annual_income = annual_income_statistics['50%']  # This is the median\n",
    "p75_annual_income = annual_income_statistics['75%']\n",
    "max_annual_income = annual_income_statistics['max']\n",
    "mean_annual_income = annual_income_statistics['mean']\n",
    "std_dev_annual_income = annual_income_statistics['std']\n",
    "\n",
    "\n",
    "print(f\"Minimum Annual Income: {min_annual_income}\")\n",
    "print(f\"25th Percentile (P25) Annual Income: {p25_annual_income}\")\n",
    "print(f\"Median Annual Income: {median_annual_income}\")\n",
    "print(f\"75th Percentile (P75) Annual Income: {p75_annual_income}\")\n",
    "print(f\"Maximum Annual Income: {max_annual_income}\")\n",
    "print(f\"Mean Annual Income: {mean_annual_income}\")\n",
    "print(f\"Standard Deviation of Annual Income: {std_dev_annual_income}\")\n"
   ]
  },
  {
   "cell_type": "code",
   "execution_count": 209,
   "metadata": {},
   "outputs": [],
   "source": [
    "#13."
   ]
  },
  {
   "cell_type": "code",
   "execution_count": 211,
   "metadata": {},
   "outputs": [
    {
     "name": "stdout",
     "output_type": "stream",
     "text": [
      "   Category  Frequency  Percent Frequency  Cumulative Frequency  \\\n",
      "0         3       5691             28.455                  5691   \n",
      "1         2       4913             24.565                 10604   \n",
      "2         4       4398             21.990                 15002   \n",
      "3         5       2479             12.395                 17481   \n",
      "4         1       1743              8.715                 19224   \n",
      "5         6        776              3.880                 20000   \n",
      "\n",
      "   Cumulative Percent Frequency  \n",
      "0                        28.455  \n",
      "1                        53.020  \n",
      "2                        75.010  \n",
      "3                        87.405  \n",
      "4                        96.120  \n",
      "5                       100.000  \n"
     ]
    }
   ],
   "source": [
    "\n",
    "accounts_frequency_table = annual_activity['number_of_accounts'].value_counts()\n",
    "accounts_percent_frequency = annual_activity['number_of_accounts'].value_counts(normalize=True) * 100\n",
    "accounts_cumulative_frequency = accounts_frequency_table.cumsum()\n",
    "accounts_cumulative_percent_frequency = accounts_percent_frequency.cumsum()\n",
    "\n",
    "\n",
    "accounts_table = pd.DataFrame({\n",
    "    'Category': accounts_frequency_table.index,\n",
    "    'Frequency': accounts_frequency_table.values,\n",
    "    'Percent Frequency': accounts_percent_frequency.values,\n",
    "    'Cumulative Frequency': accounts_cumulative_frequency.values,\n",
    "    'Cumulative Percent Frequency': accounts_cumulative_percent_frequency.values\n",
    "})\n",
    "\n",
    "print(accounts_table)\n"
   ]
  },
  {
   "cell_type": "markdown",
   "metadata": {},
   "source": [
    "## 14"
   ]
  },
  {
   "cell_type": "code",
   "execution_count": 212,
   "metadata": {},
   "outputs": [
    {
     "name": "stdout",
     "output_type": "stream",
     "text": [
      "Minimum Total Credit Line: 3952.0\n",
      "25th Percentile (P25) Total Credit Line: 16556.8\n",
      "Median Total Credit Line: 24460.8\n",
      "75th Percentile (P75) Total Credit Line: 33446.4\n",
      "Maximum Total Credit Line: 76128.0\n",
      "Mean Total Credit Line: 25880.59136000005\n",
      "Standard Deviation of Total Credit Line: 12515.20666113389\n"
     ]
    }
   ],
   "source": [
    "\n",
    "total_credit_line_statistics = annual_activity['total_credit_line_y'].describe(percentiles=[.25, .5, .75])\n",
    "\n",
    "min_total_credit_line = total_credit_line_statistics['min']\n",
    "p25_total_credit_line = total_credit_line_statistics['25%']\n",
    "median_total_credit_line = total_credit_line_statistics['50%']  # This is the median\n",
    "p75_total_credit_line = total_credit_line_statistics['75%']\n",
    "max_total_credit_line = total_credit_line_statistics['max']\n",
    "mean_total_credit_line = total_credit_line_statistics['mean']\n",
    "std_dev_total_credit_line = total_credit_line_statistics['std']\n",
    "\n",
    "\n",
    "print(f\"Minimum Total Credit Line: {min_total_credit_line}\")\n",
    "print(f\"25th Percentile (P25) Total Credit Line: {p25_total_credit_line}\")\n",
    "print(f\"Median Total Credit Line: {median_total_credit_line}\")\n",
    "print(f\"75th Percentile (P75) Total Credit Line: {p75_total_credit_line}\")\n",
    "print(f\"Maximum Total Credit Line: {max_total_credit_line}\")\n",
    "print(f\"Mean Total Credit Line: {mean_total_credit_line}\")\n",
    "print(f\"Standard Deviation of Total Credit Line: {std_dev_total_credit_line}\")\n"
   ]
  },
  {
   "cell_type": "markdown",
   "metadata": {},
   "source": [
    "# Accounts information"
   ]
  },
  {
   "cell_type": "code",
   "execution_count": 213,
   "metadata": {},
   "outputs": [],
   "source": [
    "#1"
   ]
  },
  {
   "cell_type": "code",
   "execution_count": 214,
   "metadata": {},
   "outputs": [
    {
     "name": "stdout",
     "output_type": "stream",
     "text": [
      "Minimum Date Opened: 2017-01-01 00:00:00\n",
      "Maximum Date Opened: 2022-01-01 00:00:00\n"
     ]
    }
   ],
   "source": [
    "min_date_opened = annual_activity['date_opened'].min()\n",
    "max_date_opened = annual_activity['date_opened'].max()\n",
    "\n",
    "print(f\"Minimum Date Opened: {min_date_opened}\")\n",
    "print(f\"Maximum Date Opened: {max_date_opened}\")\n"
   ]
  },
  {
   "cell_type": "code",
   "execution_count": 215,
   "metadata": {},
   "outputs": [],
   "source": [
    "#2"
   ]
  },
  {
   "cell_type": "code",
   "execution_count": 217,
   "metadata": {},
   "outputs": [
    {
     "name": "stdout",
     "output_type": "stream",
     "text": [
      "Minimum Age of Accounts: 0.0 years\n",
      "25th Percentile (P25) Age of Accounts: 1.0 years\n",
      "Median Age of Accounts: 2.0 years\n",
      "75th Percentile (P75) Age of Accounts: 3.0 years\n",
      "Maximum Age of Accounts: 5.0 years\n",
      "Mean Age of Accounts: 2.0033 years\n",
      "Standard Deviation of Age of Accounts: 1.4141743543336036 years\n"
     ]
    }
   ],
   "source": [
    "\n",
    "annual_activity['date_opened'] = pd.to_datetime(annual_activity['date_opened'])\n",
    "\n",
    "\n",
    "reference_date = pd.to_datetime('2022-01-01')\n",
    "annual_activity['account_age'] = (reference_date - annual_activity['date_opened']).dt.days // 365\n",
    "\n",
    "\n",
    "age_statistics = annual_activity['account_age'].describe(percentiles=[.25, .5, .75])\n",
    "\n",
    "min_age = age_statistics['min']\n",
    "p25_age = age_statistics['25%']\n",
    "median_age = age_statistics['50%']  # This is the median\n",
    "p75_age = age_statistics['75%']\n",
    "max_age = age_statistics['max']\n",
    "mean_age = age_statistics['mean']\n",
    "std_dev_age = age_statistics['std']\n",
    "\n",
    "print(f\"Minimum Age of Accounts: {min_age} years\")\n",
    "print(f\"25th Percentile (P25) Age of Accounts: {p25_age} years\")\n",
    "print(f\"Median Age of Accounts: {median_age} years\")\n",
    "print(f\"75th Percentile (P75) Age of Accounts: {p75_age} years\")\n",
    "print(f\"Maximum Age of Accounts: {max_age} years\")\n",
    "print(f\"Mean Age of Accounts: {mean_age} years\")\n",
    "print(f\"Standard Deviation of Age of Accounts: {std_dev_age} years\")\n"
   ]
  },
  {
   "cell_type": "code",
   "execution_count": 218,
   "metadata": {},
   "outputs": [],
   "source": [
    "#3"
   ]
  },
  {
   "cell_type": "code",
   "execution_count": 220,
   "metadata": {},
   "outputs": [
    {
     "name": "stdout",
     "output_type": "stream",
     "text": [
      "  Category  Frequency  Percent Frequency  Cumulative Frequency  \\\n",
      "0     True      19463             97.315                 19463   \n",
      "1    False        537              2.685                 20000   \n",
      "\n",
      "   Cumulative Percent Frequency  \n",
      "0                        97.315  \n",
      "1                       100.000  \n"
     ]
    }
   ],
   "source": [
    "\n",
    "annual_activity['date_opened'] = pd.to_datetime(annual_activity['date_opened'])\n",
    "\n",
    "\n",
    "reference_date = pd.to_datetime('2022-01-01')\n",
    "annual_activity['account_age'] = (reference_date - annual_activity['date_opened']).dt.days // 365\n",
    "\n",
    "\n",
    "annual_activity['account_age_flag'] = annual_activity['ages'] - annual_activity['account_age'] >= 20\n",
    "\n",
    "\n",
    "account_age_flag_frequency_table = annual_activity['account_age_flag'].value_counts()\n",
    "account_age_flag_percent_frequency = annual_activity['account_age_flag'].value_counts(normalize=True) * 100\n",
    "account_age_flag_cumulative_frequency = account_age_flag_frequency_table.cumsum()\n",
    "account_age_flag_cumulative_percent_frequency = account_age_flag_percent_frequency.cumsum()\n",
    "\n",
    "\n",
    "account_age_flag_table = pd.DataFrame({\n",
    "    'Category': account_age_flag_frequency_table.index,\n",
    "    'Frequency': account_age_flag_frequency_table.values,\n",
    "    'Percent Frequency': account_age_flag_percent_frequency.values,\n",
    "    'Cumulative Frequency': account_age_flag_cumulative_frequency.values,\n",
    "    'Cumulative Percent Frequency': account_age_flag_cumulative_percent_frequency.values\n",
    "})\n",
    "\n",
    "print(account_age_flag_table)\n"
   ]
  },
  {
   "cell_type": "code",
   "execution_count": 221,
   "metadata": {},
   "outputs": [],
   "source": [
    "#4"
   ]
  },
  {
   "cell_type": "code",
   "execution_count": 222,
   "metadata": {},
   "outputs": [
    {
     "name": "stdout",
     "output_type": "stream",
     "text": [
      "Minimum Account Number: 1\n",
      "Maximum Account Number: 1\n"
     ]
    }
   ],
   "source": [
    "min_account_number = annual_activity['Account_ID'].min()\n",
    "max_account_number = annual_activity['Account_ID'].max()\n",
    "\n",
    "print(f\"Minimum Account Number: {min_account_number}\")\n",
    "print(f\"Maximum Account Number: {max_account_number}\")\n"
   ]
  },
  {
   "cell_type": "code",
   "execution_count": 223,
   "metadata": {},
   "outputs": [],
   "source": [
    "#5"
   ]
  },
  {
   "cell_type": "code",
   "execution_count": 225,
   "metadata": {},
   "outputs": [
    {
     "name": "stdout",
     "output_type": "stream",
     "text": [
      "   Category  Frequency  Percent Frequency  Cumulative Frequency  \\\n",
      "0         1      20000              100.0                 20000   \n",
      "\n",
      "   Cumulative Percent Frequency  \n",
      "0                         100.0  \n"
     ]
    }
   ],
   "source": [
    "# Extract the last digit of the 'Account Number' column\n",
    "annual_activity['last_digit'] = annual_activity['Account_ID'] % 10\n",
    "\n",
    "\n",
    "last_digit_frequency_table = annual_activity['last_digit'].value_counts()\n",
    "last_digit_percent_frequency = annual_activity['last_digit'].value_counts(normalize=True) * 100\n",
    "last_digit_cumulative_frequency = last_digit_frequency_table.cumsum()\n",
    "last_digit_cumulative_percent_frequency = last_digit_percent_frequency.cumsum()\n",
    "\n",
    "\n",
    "last_digit_table = pd.DataFrame({\n",
    "    'Category': last_digit_frequency_table.index,\n",
    "    'Frequency': last_digit_frequency_table.values,\n",
    "    'Percent Frequency': last_digit_percent_frequency.values,\n",
    "    'Cumulative Frequency': last_digit_cumulative_frequency.values,\n",
    "    'Cumulative Percent Frequency': last_digit_cumulative_percent_frequency.values\n",
    "})\n",
    "\n",
    "print(last_digit_table)\n"
   ]
  },
  {
   "cell_type": "code",
   "execution_count": 226,
   "metadata": {},
   "outputs": [],
   "source": [
    "#6"
   ]
  },
  {
   "cell_type": "code",
   "execution_count": 227,
   "metadata": {},
   "outputs": [
    {
     "name": "stdout",
     "output_type": "stream",
     "text": [
      "Minimum Account Credit Line: 534.4253553238183\n",
      "25th Percentile (P25) Account Credit Line: 5902.054594780068\n",
      "Median Account Credit Line: 10748.418606671199\n",
      "75th Percentile (P75) Account Credit Line: 17812.260917995263\n",
      "Maximum Account Credit Line: 62425.72358577053\n",
      "Mean Account Credit Line: 12968.916283901659\n",
      "Standard Deviation of Account Credit Line: 9132.36508287575\n"
     ]
    }
   ],
   "source": [
    "\n",
    "account_credit_line_statistics = annual_activity['Account Credit Line'].describe(percentiles=[.25, .5, .75])\n",
    "\n",
    "min_account_credit_line = account_credit_line_statistics['min']\n",
    "p25_account_credit_line = account_credit_line_statistics['25%']\n",
    "median_account_credit_line = account_credit_line_statistics['50%']  # This is the median\n",
    "p75_account_credit_line = account_credit_line_statistics['75%']\n",
    "max_account_credit_line = account_credit_line_statistics['max']\n",
    "mean_account_credit_line = account_credit_line_statistics['mean']\n",
    "std_dev_account_credit_line = account_credit_line_statistics['std']\n",
    "\n",
    "# Display the results\n",
    "print(f\"Minimum Account Credit Line: {min_account_credit_line}\")\n",
    "print(f\"25th Percentile (P25) Account Credit Line: {p25_account_credit_line}\")\n",
    "print(f\"Median Account Credit Line: {median_account_credit_line}\")\n",
    "print(f\"75th Percentile (P75) Account Credit Line: {p75_account_credit_line}\")\n",
    "print(f\"Maximum Account Credit Line: {max_account_credit_line}\")\n",
    "print(f\"Mean Account Credit Line: {mean_account_credit_line}\")\n",
    "print(f\"Standard Deviation of Account Credit Line: {std_dev_account_credit_line}\")\n"
   ]
  },
  {
   "cell_type": "code",
   "execution_count": 228,
   "metadata": {},
   "outputs": [],
   "source": [
    "#7"
   ]
  },
  {
   "cell_type": "code",
   "execution_count": 230,
   "metadata": {},
   "outputs": [
    {
     "name": "stdout",
     "output_type": "stream",
     "text": [
      "  Category  Frequency  Percent Frequency  Cumulative Frequency  \\\n",
      "0     True      20000              100.0                 20000   \n",
      "\n",
      "   Cumulative Percent Frequency  \n",
      "0                         100.0  \n"
     ]
    }
   ],
   "source": [
    "\n",
    "total_account_credit_lines = annual_activity['Account Credit Line'].sum()\n",
    "\n",
    "\n",
    "annual_activity['account_credit_line_flag'] = annual_activity['Account Credit Line'].sum() == total_account_credit_lines\n",
    "\n",
    "\n",
    "account_credit_line_flag_frequency_table = annual_activity['account_credit_line_flag'].value_counts()\n",
    "account_credit_line_flag_percent_frequency = annual_activity['account_credit_line_flag'].value_counts(normalize=True) * 100\n",
    "account_credit_line_flag_cumulative_frequency = account_credit_line_flag_frequency_table.cumsum()\n",
    "account_credit_line_flag_cumulative_percent_frequency = account_credit_line_flag_percent_frequency.cumsum()\n",
    "\n",
    "# Create a DataFrame\n",
    "account_credit_line_flag_table = pd.DataFrame({\n",
    "    'Category': account_credit_line_flag_frequency_table.index,\n",
    "    'Frequency': account_credit_line_flag_frequency_table.values,\n",
    "    'Percent Frequency': account_credit_line_flag_percent_frequency.values,\n",
    "    'Cumulative Frequency': account_credit_line_flag_cumulative_frequency.values,\n",
    "    'Cumulative Percent Frequency': account_credit_line_flag_cumulative_percent_frequency.values\n",
    "})\n",
    "\n",
    "print(account_credit_line_flag_table)\n"
   ]
  },
  {
   "cell_type": "code",
   "execution_count": 231,
   "metadata": {
    "code_folding": []
   },
   "outputs": [],
   "source": [
    "#8"
   ]
  },
  {
   "cell_type": "code",
   "execution_count": 232,
   "metadata": {},
   "outputs": [
    {
     "name": "stdout",
     "output_type": "stream",
     "text": [
      "Minimum Annual Fee: 5.3442535532381825\n",
      "25th Percentile (P25) Annual Fee: 59.020545947800684\n",
      "Median Annual Fee: 107.484186066712\n",
      "75th Percentile (P75) Annual Fee: 178.12260917995263\n",
      "Maximum Annual Fee: 624.2572358577053\n",
      "Mean Annual Fee: 129.6891628390166\n",
      "Standard Deviation of Annual Fee: 91.32365082875765\n"
     ]
    }
   ],
   "source": [
    "\n",
    "annual_fee_statistics = annual_activity['Annual Fee'].describe(percentiles=[.25, .5, .75])\n",
    "\n",
    "min_annual_fee = annual_fee_statistics['min']\n",
    "p25_annual_fee = annual_fee_statistics['25%']\n",
    "median_annual_fee = annual_fee_statistics['50%'] #median\n",
    "p75_annual_fee = annual_fee_statistics['75%']\n",
    "max_annual_fee = annual_fee_statistics['max']\n",
    "mean_annual_fee = annual_fee_statistics['mean']\n",
    "std_dev_annual_fee = annual_fee_statistics['std']\n",
    "\n",
    "print(f\"Minimum Annual Fee: {min_annual_fee}\")\n",
    "print(f\"25th Percentile (P25) Annual Fee: {p25_annual_fee}\")\n",
    "print(f\"Median Annual Fee: {median_annual_fee}\")\n",
    "print(f\"75th Percentile (P75) Annual Fee: {p75_annual_fee}\")\n",
    "print(f\"Maximum Annual Fee: {max_annual_fee}\")\n",
    "print(f\"Mean Annual Fee: {mean_annual_fee}\")\n",
    "print(f\"Standard Deviation of Annual Fee: {std_dev_annual_fee}\")\n"
   ]
  },
  {
   "cell_type": "code",
   "execution_count": 233,
   "metadata": {},
   "outputs": [],
   "source": [
    "#9"
   ]
  },
  {
   "cell_type": "code",
   "execution_count": 234,
   "metadata": {},
   "outputs": [
    {
     "name": "stdout",
     "output_type": "stream",
     "text": [
      "  Category  Frequency  Percent Frequency  Cumulative Frequency  \\\n",
      "0     True      20000              100.0                 20000   \n",
      "\n",
      "   Cumulative Percent Frequency  \n",
      "0                         100.0  \n"
     ]
    }
   ],
   "source": [
    "\n",
    "annual_activity['annual_fee_flag'] = annual_activity['Annual Fee'] == annual_activity['Account Credit Line'] * 0.01\n",
    "\n",
    "\n",
    "annual_fee_flag_frequency_table = annual_activity['annual_fee_flag'].value_counts()\n",
    "annual_fee_flag_percent_frequency = annual_activity['annual_fee_flag'].value_counts(normalize=True) * 100\n",
    "annual_fee_flag_cumulative_frequency = annual_fee_flag_frequency_table.cumsum()\n",
    "annual_fee_flag_cumulative_percent_frequency = annual_fee_flag_percent_frequency.cumsum()\n",
    "\n",
    "\n",
    "annual_fee_flag_table = pd.DataFrame({\n",
    "    'Category': annual_fee_flag_frequency_table.index,\n",
    "    'Frequency': annual_fee_flag_frequency_table.values,\n",
    "    'Percent Frequency': annual_fee_flag_percent_frequency.values,\n",
    "    'Cumulative Frequency': annual_fee_flag_cumulative_frequency.values,\n",
    "    'Cumulative Percent Frequency': annual_fee_flag_cumulative_percent_frequency.values\n",
    "})\n",
    "\n",
    "print(annual_fee_flag_table)\n"
   ]
  },
  {
   "cell_type": "code",
   "execution_count": 235,
   "metadata": {},
   "outputs": [],
   "source": [
    "#10"
   ]
  },
  {
   "cell_type": "code",
   "execution_count": 236,
   "metadata": {},
   "outputs": [
    {
     "name": "stdout",
     "output_type": "stream",
     "text": [
      "Minimum Annual Interest Rate: 0.1500073005030298\n",
      "25th Percentile (P25) Annual Interest Rate: 0.18641066151725416\n",
      "Median Annual Interest Rate: 0.22474401249267995\n",
      "75th Percentile (P75) Annual Interest Rate: 0.26237570529692217\n",
      "Maximum Annual Interest Rate: 0.29999666597153973\n",
      "Mean Annual Interest Rate: 0.22459033280998397\n",
      "Standard Deviation of Annual Interest Rate: 0.043479048901188116\n"
     ]
    }
   ],
   "source": [
    "\n",
    "annual_interest_rate_statistics = annual_activity['Annual Interest Rate'].describe(percentiles=[.25, .5, .75])\n",
    "\n",
    "min_annual_interest_rate = annual_interest_rate_statistics['min']\n",
    "p25_annual_interest_rate = annual_interest_rate_statistics['25%']\n",
    "median_annual_interest_rate = annual_interest_rate_statistics['50%']  # This is the median\n",
    "p75_annual_interest_rate = annual_interest_rate_statistics['75%']\n",
    "max_annual_interest_rate = annual_interest_rate_statistics['max']\n",
    "mean_annual_interest_rate = annual_interest_rate_statistics['mean']\n",
    "std_dev_annual_interest_rate = annual_interest_rate_statistics['std']\n",
    "\n",
    "\n",
    "print(f\"Minimum Annual Interest Rate: {min_annual_interest_rate}\")\n",
    "print(f\"25th Percentile (P25) Annual Interest Rate: {p25_annual_interest_rate}\")\n",
    "print(f\"Median Annual Interest Rate: {median_annual_interest_rate}\")\n",
    "print(f\"75th Percentile (P75) Annual Interest Rate: {p75_annual_interest_rate}\")\n",
    "print(f\"Maximum Annual Interest Rate: {max_annual_interest_rate}\")\n",
    "print(f\"Mean Annual Interest Rate: {mean_annual_interest_rate}\")\n",
    "print(f\"Standard Deviation of Annual Interest Rate: {std_dev_annual_interest_rate}\")\n"
   ]
  },
  {
   "cell_type": "code",
   "execution_count": 250,
   "metadata": {},
   "outputs": [],
   "source": [
    "end_time = time.time()\n",
    "execution_time = end_time - start_time\n",
    "logger.info(f\"Simulation completed in {execution_time:.2f} seconds\")"
   ]
  },
  {
   "cell_type": "code",
   "execution_count": 251,
   "metadata": {},
   "outputs": [],
   "source": [
    "mem_usage_start = memory_profiler.memory_usage()[0]"
   ]
  },
  {
   "cell_type": "code",
   "execution_count": 257,
   "metadata": {},
   "outputs": [
    {
     "name": "stdout",
     "output_type": "stream",
     "text": [
      "2023-11-12 12:15:17,095 [INFO] [__main__]: Simulation completed in 39.17 seconds\n",
      "2023-11-12 12:17:05,447 [INFO] [__main__]: Simulation completed in 147.52 seconds\n",
      "2023-11-12 12:17:40,518 [INFO] [__main__]: Memory usage: 0.00 MB\n",
      "2023-11-12 12:17:59,727 [INFO] [__main__]: Memory usage: 0.00 MB\n",
      "\n",
      "Total execution time: 147.52 seconds\n",
      "Total memory used: 0.00 MB\n"
     ]
    }
   ],
   "source": [
    "\n",
    "# Measure memory usage after the simulatio\n",
    "mem_usage_end = memory_profiler.memory_usage()[0]\n",
    "mem_usage_diff = mem_usage_end - mem_usage_start\n",
    "logger.info(f\"Memory usage: {mem_usage_diff:.2f} MB\")\n",
    "with open('simulation.log', 'r') as log_file:\n",
    "        log_contents = log_file.read()\n",
    "        print(log_contents)\n",
    "\n",
    "print(f\"Total execution time: {execution_time:.2f} seconds\")\n",
    "print(f\"Total memory used: {mem_usage_diff:.2f} MB\")"
   ]
  },
  {
   "cell_type": "code",
   "execution_count": null,
   "metadata": {},
   "outputs": [],
   "source": []
  }
 ],
 "metadata": {
  "kernelspec": {
   "display_name": "Python 3 (ipykernel)",
   "language": "python",
   "name": "python3"
  },
  "language_info": {
   "codemirror_mode": {
    "name": "ipython",
    "version": 3
   },
   "file_extension": ".py",
   "mimetype": "text/x-python",
   "name": "python",
   "nbconvert_exporter": "python",
   "pygments_lexer": "ipython3",
   "version": "3.9.7"
  }
 },
 "nbformat": 4,
 "nbformat_minor": 2
}
